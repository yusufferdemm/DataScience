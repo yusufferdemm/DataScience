{
 "cells": [
  {
   "cell_type": "markdown",
   "id": "0f6d5716",
   "metadata": {
    "toc": true
   },
   "source": [
    "<h1>Table of Contents<span class=\"tocSkip\"></span></h1>\n",
    "<div class=\"toc\"><ul class=\"toc-item\"><li><span><a href=\"#Veri-Bilimi-için-İstatistik\" data-toc-modified-id=\"Veri-Bilimi-için-İstatistik-1\"><strong>Veri Bilimi için İstatistik</strong></a></span></li><li><span><a href=\"#Örnek-Teorisi\" data-toc-modified-id=\"Örnek-Teorisi-2\">Örnek Teorisi</a></span></li><li><span><a href=\"#Betimsel-Istatistikler\" data-toc-modified-id=\"Betimsel-Istatistikler-3\">Betimsel Istatistikler</a></span><ul class=\"toc-item\"><li><span><a href=\"#İş-Uygulaması:-Fiyat-Stratejisi-Karar-Destek\" data-toc-modified-id=\"İş-Uygulaması:-Fiyat-Stratejisi-Karar-Destek-3.1\"><strong>İş Uygulaması: Fiyat Stratejisi Karar Destek</strong></a></span></li></ul></li><li><span><a href=\"#Olasılık-Dağılımları\" data-toc-modified-id=\"Olasılık-Dağılımları-4\">Olasılık Dağılımları</a></span><ul class=\"toc-item\"><li><span><a href=\"#Bernoulli-Dağılımı\" data-toc-modified-id=\"Bernoulli-Dağılımı-4.1\">Bernoulli Dağılımı</a></span></li><li><span><a href=\"#Büyük-Sayılar-Yasası\" data-toc-modified-id=\"Büyük-Sayılar-Yasası-4.2\">Büyük Sayılar Yasası</a></span></li><li><span><a href=\"#Binom-Dagilimi\" data-toc-modified-id=\"Binom-Dagilimi-4.3\">Binom Dagilimi</a></span><ul class=\"toc-item\"><li><span><a href=\"#Is-Uygulamasi-:Reklam-Harcamasi-Optimizasyonu\" data-toc-modified-id=\"Is-Uygulamasi-:Reklam-Harcamasi-Optimizasyonu-4.3.1\"><strong>Is Uygulamasi :Reklam Harcamasi Optimizasyonu</strong></a></span></li></ul></li><li><span><a href=\"#Poisson-Dağılımı\" data-toc-modified-id=\"Poisson-Dağılımı-4.4\">Poisson Dağılımı</a></span></li><li><span><a href=\"#Is-Uygulamasi-:-Ilan-Girisi-Hata-Olasiliklarinin-Hesaplanmasi\" data-toc-modified-id=\"Is-Uygulamasi-:-Ilan-Girisi-Hata-Olasiliklarinin-Hesaplanmasi-4.5\"><strong>Is Uygulamasi : Ilan Girisi Hata Olasiliklarinin Hesaplanmasi</strong></a></span></li><li><span><a href=\"#Normal-Dagilim\" data-toc-modified-id=\"Normal-Dagilim-4.6\">Normal Dagilim</a></span></li><li><span><a href=\"#Is-Uygulamasi-:-Satis-Olasiliklarinin-Hesaplanmasi\" data-toc-modified-id=\"Is-Uygulamasi-:-Satis-Olasiliklarinin-Hesaplanmasi-4.7\"><strong>Is Uygulamasi : Satis Olasiliklarinin Hesaplanmasi</strong></a></span></li></ul></li><li><span><a href=\"#Tek-Örneklem-T-Testi\" data-toc-modified-id=\"Tek-Örneklem-T-Testi-5\">Tek Örneklem T Testi</a></span><ul class=\"toc-item\"><li><span><a href=\"#Is-Uygulamasi-:-Urun-Satin-Alma-Adim-Optimizasyonu\" data-toc-modified-id=\"Is-Uygulamasi-:-Urun-Satin-Alma-Adim-Optimizasyonu-5.1\"><strong>Is Uygulamasi : Urun Satin Alma Adim Optimizasyonu</strong></a></span></li><li><span><a href=\"#Is-Uygulamasi-:-Web-Sitesinde-Gecirilen-Surenin-Testi\" data-toc-modified-id=\"Is-Uygulamasi-:-Web-Sitesinde-Gecirilen-Surenin-Testi-5.2\"><strong>Is Uygulamasi : Web Sitesinde Gecirilen Surenin Testi</strong></a></span></li><li><span><a href=\"#Varsayimlar\" data-toc-modified-id=\"Varsayimlar-5.3\">Varsayimlar</a></span></li><li><span><a href=\"#Normallik-Varsayimi\" data-toc-modified-id=\"Normallik-Varsayimi-5.4\">Normallik Varsayimi</a></span></li><li><span><a href=\"#Shapiro-Wilks-Testi\" data-toc-modified-id=\"Shapiro-Wilks-Testi-5.5\">Shapiro-Wilks Testi</a></span></li><li><span><a href=\"#Hipotez-Testinin-Uygulanması\" data-toc-modified-id=\"Hipotez-Testinin-Uygulanması-5.6\">Hipotez Testinin Uygulanması</a></span></li><li><span><a href=\"#Nonparametrik-Tek-Örneklem-Testi\" data-toc-modified-id=\"Nonparametrik-Tek-Örneklem-Testi-5.7\">Nonparametrik Tek Örneklem Testi</a></span></li></ul></li><li><span><a href=\"#Tek-Orneklem-Oran-Testi\" data-toc-modified-id=\"Tek-Orneklem-Oran-Testi-6\">Tek Orneklem Oran Testi</a></span><ul class=\"toc-item\"><li><span><a href=\"#Is-Uygulamasi-:-Donusum-Oran-Testi\" data-toc-modified-id=\"Is-Uygulamasi-:-Donusum-Oran-Testi-6.1\"><strong>Is Uygulamasi : Donusum Oran Testi</strong></a></span></li><li><span><a href=\"#Bagimsiz-Iki-Orneklem-T-Testi-(A-B-Test)\" data-toc-modified-id=\"Bagimsiz-Iki-Orneklem-T-Testi-(A-B-Test)-6.2\">Bagimsiz Iki Orneklem T Testi (A-B Test)</a></span></li><li><span><a href=\"#Is-Uygulamasi-:-ML-Modelinin-Basari-Testi\" data-toc-modified-id=\"Is-Uygulamasi-:-ML-Modelinin-Basari-Testi-6.3\"><strong>Is Uygulamasi : ML Modelinin Basari Testi</strong></a></span></li><li><span><a href=\"#Varsayim-Kontrolleri\" data-toc-modified-id=\"Varsayim-Kontrolleri-6.4\">Varsayim Kontrolleri</a></span><ul class=\"toc-item\"><li><span><a href=\"#normallik-varasyimi\" data-toc-modified-id=\"normallik-varasyimi-6.4.1\">normallik varasyimi</a></span></li><li><span><a href=\"#varyans-homojenligi-varsayımı\" data-toc-modified-id=\"varyans-homojenligi-varsayımı-6.4.2\">varyans homojenligi varsayımı</a></span></li></ul></li><li><span><a href=\"#Hipotez-Testi\" data-toc-modified-id=\"Hipotez-Testi-6.5\">Hipotez Testi</a></span></li><li><span><a href=\"#Nonparametrik-Bağımsız-İki-Örneklem-Testi\" data-toc-modified-id=\"Nonparametrik-Bağımsız-İki-Örneklem-Testi-6.6\">Nonparametrik Bağımsız İki Örneklem Testi</a></span></li></ul></li><li><span><a href=\"#Bağımlı-İki-Örneklem-T-Testi\" data-toc-modified-id=\"Bağımlı-İki-Örneklem-T-Testi-7\">Bağımlı İki Örneklem T Testi</a></span><ul class=\"toc-item\"><li><span><a href=\"#Is-Uygulamasi-:-Sirket-Ici-Egitimin-Performans-etkisi-Olcumu\" data-toc-modified-id=\"Is-Uygulamasi-:-Sirket-Ici-Egitimin-Performans-etkisi-Olcumu-7.1\"><strong>Is Uygulamasi : Sirket Ici Egitimin Performans etkisi Olcumu</strong></a></span></li><li><span><a href=\"#Varsayım-Kontrolleri\" data-toc-modified-id=\"Varsayım-Kontrolleri-7.2\">Varsayım Kontrolleri</a></span></li><li><span><a href=\"#Hipotez-Testi\" data-toc-modified-id=\"Hipotez-Testi-7.3\">Hipotez Testi</a></span></li><li><span><a href=\"#Nonparametrik-Bağımlı-İki-Örneklem-Testi\" data-toc-modified-id=\"Nonparametrik-Bağımlı-İki-Örneklem-Testi-7.4\">Nonparametrik Bağımlı İki Örneklem Testi</a></span></li><li><span><a href=\"#İki-Örneklem-Oran-Testi\" data-toc-modified-id=\"İki-Örneklem-Oran-Testi-7.5\">İki Örneklem Oran Testi</a></span></li><li><span><a href=\"#Is-Uygulamasi-:-Kullanici-Arayuzu-Deneyi-(AB-Testi)\" data-toc-modified-id=\"Is-Uygulamasi-:-Kullanici-Arayuzu-Deneyi-(AB-Testi)-7.6\"><strong>Is Uygulamasi : Kullanici Arayuzu Deneyi (AB Testi)</strong></a></span></li></ul></li><li><span><a href=\"#Varyans-Analizi\" data-toc-modified-id=\"Varyans-Analizi-8\">Varyans Analizi</a></span><ul class=\"toc-item\"><li><span><a href=\"#Varyans-Analizi-Varsayimlar\" data-toc-modified-id=\"Varyans-Analizi-Varsayimlar-8.1\">Varyans Analizi Varsayimlar</a></span></li><li><span><a href=\"#Is-Uygulamasi-:-Anasayfa-Icerik-Stratejisi-Belirleme\" data-toc-modified-id=\"Is-Uygulamasi-:-Anasayfa-Icerik-Stratejisi-Belirleme-8.2\"><strong>Is Uygulamasi : Anasayfa Icerik Stratejisi Belirleme</strong></a></span></li><li><span><a href=\"#Varsayım-Kontrolü\" data-toc-modified-id=\"Varsayım-Kontrolü-8.3\">Varsayım Kontrolü</a></span></li><li><span><a href=\"#Hipotez-Testi\" data-toc-modified-id=\"Hipotez-Testi-8.4\">Hipotez Testi</a></span></li><li><span><a href=\"#Non-Parametrik-Hipotez-Testi\" data-toc-modified-id=\"Non-Parametrik-Hipotez-Testi-8.5\">Non-Parametrik Hipotez Testi</a></span></li><li><span><a href=\"#Kolerasyon-Analizi\" data-toc-modified-id=\"Kolerasyon-Analizi-8.6\">Kolerasyon Analizi</a></span></li><li><span><a href=\"#Is-Uygulamasi-:-Odenen-Hesapla-ile-Basis-Arasinda-Kolerasyon-Var-mi-?\" data-toc-modified-id=\"Is-Uygulamasi-:-Odenen-Hesapla-ile-Basis-Arasinda-Kolerasyon-Var-mi-?-8.7\"><strong>Is Uygulamasi : Odenen Hesapla ile Basis Arasinda Kolerasyon Var mi ?</strong></a></span></li><li><span><a href=\"#Varysayim-Kontrolu\" data-toc-modified-id=\"Varysayim-Kontrolu-8.8\">Varysayim Kontrolu</a></span></li><li><span><a href=\"#Hipotez-Testi\" data-toc-modified-id=\"Hipotez-Testi-8.9\">Hipotez Testi</a></span></li><li><span><a href=\"#Nonparametrik-Hipotez-Testi\" data-toc-modified-id=\"Nonparametrik-Hipotez-Testi-8.10\">Nonparametrik Hipotez Testi</a></span></li></ul></li></ul></div>"
   ]
  },
  {
   "cell_type": "markdown",
   "id": "460cd60d",
   "metadata": {},
   "source": [
    "# __Veri Bilimi için İstatistik__"
   ]
  },
  {
   "cell_type": "markdown",
   "id": "36c3e9e8",
   "metadata": {},
   "source": [
    "# Örnek Teorisi"
   ]
  },
  {
   "cell_type": "code",
   "execution_count": 6,
   "id": "d73092c1",
   "metadata": {},
   "outputs": [],
   "source": [
    "import numpy as np"
   ]
  },
  {
   "cell_type": "code",
   "execution_count": 7,
   "id": "a56575d0",
   "metadata": {},
   "outputs": [],
   "source": [
    "populasyon=np.random.randint(0,80,10000)"
   ]
  },
  {
   "cell_type": "code",
   "execution_count": 8,
   "id": "6b7473a2",
   "metadata": {},
   "outputs": [
    {
     "data": {
      "text/plain": [
       "array([26, 64, 21, 66, 46, 77, 64, 60, 46,  8])"
      ]
     },
     "execution_count": 8,
     "metadata": {},
     "output_type": "execute_result"
    }
   ],
   "source": [
    "populasyon[0:10]"
   ]
  },
  {
   "cell_type": "code",
   "execution_count": 9,
   "id": "84c78aa5",
   "metadata": {},
   "outputs": [],
   "source": [
    "# Orneklem Cekimi\n",
    "np.random.seed(115)\n",
    "orneklem = np.random.choice(populasyon,size=100)"
   ]
  },
  {
   "cell_type": "code",
   "execution_count": 10,
   "id": "c752f8cc",
   "metadata": {},
   "outputs": [
    {
     "data": {
      "text/plain": [
       "array([20, 28, 57, 25, 79, 16, 49, 42, 62, 44, 42, 62, 69, 11, 57, 76, 36,\n",
       "       34,  6, 42, 29, 43,  0, 10,  9,  8, 69, 27, 43, 49, 44, 46, 32,  3,\n",
       "       52, 75, 43, 22, 30,  1, 14, 35, 25, 59, 76, 11, 44, 52, 39, 45,  0,\n",
       "       31, 43, 17, 35, 60, 20, 47, 45, 14, 70, 42, 42,  4, 60, 26,  5, 21,\n",
       "       14, 10,  2, 55, 13, 15, 61, 35, 33, 17, 24, 71, 26, 53,  3, 78,  1,\n",
       "        8, 53, 77, 14, 39,  6,  9, 46, 26, 60, 51, 64, 52, 22, 20])"
      ]
     },
     "execution_count": 10,
     "metadata": {},
     "output_type": "execute_result"
    }
   ],
   "source": [
    "orneklem"
   ]
  },
  {
   "cell_type": "code",
   "execution_count": 11,
   "id": "de65d39e",
   "metadata": {},
   "outputs": [
    {
     "data": {
      "text/plain": [
       "35.32"
      ]
     },
     "execution_count": 11,
     "metadata": {},
     "output_type": "execute_result"
    }
   ],
   "source": [
    "orneklem.mean()"
   ]
  },
  {
   "cell_type": "code",
   "execution_count": 12,
   "id": "85b25cf4",
   "metadata": {},
   "outputs": [
    {
     "data": {
      "text/plain": [
       "39.2312"
      ]
     },
     "execution_count": 12,
     "metadata": {},
     "output_type": "execute_result"
    }
   ],
   "source": [
    "populasyon.mean()"
   ]
  },
  {
   "cell_type": "code",
   "execution_count": 13,
   "id": "60efb79b",
   "metadata": {},
   "outputs": [],
   "source": [
    "np.random.seed(10)\n",
    "orneklem1 = np.random.choice(populasyon, size = 100)\n",
    "orneklem2 = np.random.choice(populasyon, size = 100)\n",
    "orneklem3 = np.random.choice(populasyon, size = 100)\n",
    "orneklem4 = np.random.choice(populasyon, size = 100)\n",
    "orneklem5 = np.random.choice(populasyon, size = 100)\n",
    "orneklem6 = np.random.choice(populasyon, size = 100)\n",
    "orneklem7 = np.random.choice(populasyon, size = 100)\n",
    "orneklem8 = np.random.choice(populasyon, size = 100)\n",
    "orneklem9 = np.random.choice(populasyon, size = 100)\n",
    "orneklem10= np.random.choice(populasyon, size = 100)"
   ]
  },
  {
   "cell_type": "code",
   "execution_count": 14,
   "id": "a41c5182",
   "metadata": {},
   "outputs": [
    {
     "data": {
      "text/plain": [
       "36.85"
      ]
     },
     "execution_count": 14,
     "metadata": {},
     "output_type": "execute_result"
    }
   ],
   "source": [
    "orneklem3.mean()"
   ]
  },
  {
   "cell_type": "code",
   "execution_count": 15,
   "id": "577c0952",
   "metadata": {},
   "outputs": [
    {
     "data": {
      "text/plain": [
       "41.23"
      ]
     },
     "execution_count": 15,
     "metadata": {},
     "output_type": "execute_result"
    }
   ],
   "source": [
    "orneklem4.mean()"
   ]
  },
  {
   "cell_type": "code",
   "execution_count": 16,
   "id": "b1ab0aae",
   "metadata": {},
   "outputs": [
    {
     "data": {
      "text/plain": [
       "39.208"
      ]
     },
     "execution_count": 16,
     "metadata": {},
     "output_type": "execute_result"
    }
   ],
   "source": [
    "(orneklem1.mean() + orneklem2.mean() + orneklem3.mean() + orneklem4.mean() + orneklem5.mean() \n",
    "+ orneklem6.mean() + orneklem7.mean() + orneklem8.mean() + orneklem9.mean() + orneklem10.mean() )  / 10"
   ]
  },
  {
   "cell_type": "markdown",
   "id": "815eb9cd",
   "metadata": {},
   "source": [
    "# Betimsel Istatistikler"
   ]
  },
  {
   "cell_type": "code",
   "execution_count": 17,
   "id": "593bf9a0",
   "metadata": {},
   "outputs": [
    {
     "data": {
      "text/html": [
       "<div>\n",
       "<style scoped>\n",
       "    .dataframe tbody tr th:only-of-type {\n",
       "        vertical-align: middle;\n",
       "    }\n",
       "\n",
       "    .dataframe tbody tr th {\n",
       "        vertical-align: top;\n",
       "    }\n",
       "\n",
       "    .dataframe thead th {\n",
       "        text-align: right;\n",
       "    }\n",
       "</style>\n",
       "<table border=\"1\" class=\"dataframe\">\n",
       "  <thead>\n",
       "    <tr style=\"text-align: right;\">\n",
       "      <th></th>\n",
       "      <th>total_bill</th>\n",
       "      <th>tip</th>\n",
       "      <th>sex</th>\n",
       "      <th>smoker</th>\n",
       "      <th>day</th>\n",
       "      <th>time</th>\n",
       "      <th>size</th>\n",
       "    </tr>\n",
       "  </thead>\n",
       "  <tbody>\n",
       "    <tr>\n",
       "      <th>0</th>\n",
       "      <td>16.99</td>\n",
       "      <td>1.01</td>\n",
       "      <td>Female</td>\n",
       "      <td>No</td>\n",
       "      <td>Sun</td>\n",
       "      <td>Dinner</td>\n",
       "      <td>2</td>\n",
       "    </tr>\n",
       "    <tr>\n",
       "      <th>1</th>\n",
       "      <td>10.34</td>\n",
       "      <td>1.66</td>\n",
       "      <td>Male</td>\n",
       "      <td>No</td>\n",
       "      <td>Sun</td>\n",
       "      <td>Dinner</td>\n",
       "      <td>3</td>\n",
       "    </tr>\n",
       "    <tr>\n",
       "      <th>2</th>\n",
       "      <td>21.01</td>\n",
       "      <td>3.50</td>\n",
       "      <td>Male</td>\n",
       "      <td>No</td>\n",
       "      <td>Sun</td>\n",
       "      <td>Dinner</td>\n",
       "      <td>3</td>\n",
       "    </tr>\n",
       "    <tr>\n",
       "      <th>3</th>\n",
       "      <td>23.68</td>\n",
       "      <td>3.31</td>\n",
       "      <td>Male</td>\n",
       "      <td>No</td>\n",
       "      <td>Sun</td>\n",
       "      <td>Dinner</td>\n",
       "      <td>2</td>\n",
       "    </tr>\n",
       "    <tr>\n",
       "      <th>4</th>\n",
       "      <td>24.59</td>\n",
       "      <td>3.61</td>\n",
       "      <td>Female</td>\n",
       "      <td>No</td>\n",
       "      <td>Sun</td>\n",
       "      <td>Dinner</td>\n",
       "      <td>4</td>\n",
       "    </tr>\n",
       "  </tbody>\n",
       "</table>\n",
       "</div>"
      ],
      "text/plain": [
       "   total_bill   tip     sex smoker  day    time  size\n",
       "0       16.99  1.01  Female     No  Sun  Dinner     2\n",
       "1       10.34  1.66    Male     No  Sun  Dinner     3\n",
       "2       21.01  3.50    Male     No  Sun  Dinner     3\n",
       "3       23.68  3.31    Male     No  Sun  Dinner     2\n",
       "4       24.59  3.61  Female     No  Sun  Dinner     4"
      ]
     },
     "execution_count": 17,
     "metadata": {},
     "output_type": "execute_result"
    }
   ],
   "source": [
    "import seaborn as sns\n",
    "tips = sns.load_dataset(\"tips\")\n",
    "df = tips.copy()\n",
    "df.head()"
   ]
  },
  {
   "cell_type": "code",
   "execution_count": 18,
   "id": "065c2620",
   "metadata": {},
   "outputs": [
    {
     "data": {
      "text/html": [
       "<div>\n",
       "<style scoped>\n",
       "    .dataframe tbody tr th:only-of-type {\n",
       "        vertical-align: middle;\n",
       "    }\n",
       "\n",
       "    .dataframe tbody tr th {\n",
       "        vertical-align: top;\n",
       "    }\n",
       "\n",
       "    .dataframe thead th {\n",
       "        text-align: right;\n",
       "    }\n",
       "</style>\n",
       "<table border=\"1\" class=\"dataframe\">\n",
       "  <thead>\n",
       "    <tr style=\"text-align: right;\">\n",
       "      <th></th>\n",
       "      <th>count</th>\n",
       "      <th>mean</th>\n",
       "      <th>std</th>\n",
       "      <th>min</th>\n",
       "      <th>25%</th>\n",
       "      <th>50%</th>\n",
       "      <th>75%</th>\n",
       "      <th>max</th>\n",
       "    </tr>\n",
       "  </thead>\n",
       "  <tbody>\n",
       "    <tr>\n",
       "      <th>total_bill</th>\n",
       "      <td>244.0</td>\n",
       "      <td>19.785943</td>\n",
       "      <td>8.902412</td>\n",
       "      <td>3.07</td>\n",
       "      <td>13.3475</td>\n",
       "      <td>17.795</td>\n",
       "      <td>24.1275</td>\n",
       "      <td>50.81</td>\n",
       "    </tr>\n",
       "    <tr>\n",
       "      <th>tip</th>\n",
       "      <td>244.0</td>\n",
       "      <td>2.998279</td>\n",
       "      <td>1.383638</td>\n",
       "      <td>1.00</td>\n",
       "      <td>2.0000</td>\n",
       "      <td>2.900</td>\n",
       "      <td>3.5625</td>\n",
       "      <td>10.00</td>\n",
       "    </tr>\n",
       "    <tr>\n",
       "      <th>size</th>\n",
       "      <td>244.0</td>\n",
       "      <td>2.569672</td>\n",
       "      <td>0.951100</td>\n",
       "      <td>1.00</td>\n",
       "      <td>2.0000</td>\n",
       "      <td>2.000</td>\n",
       "      <td>3.0000</td>\n",
       "      <td>6.00</td>\n",
       "    </tr>\n",
       "  </tbody>\n",
       "</table>\n",
       "</div>"
      ],
      "text/plain": [
       "            count       mean       std   min      25%     50%      75%    max\n",
       "total_bill  244.0  19.785943  8.902412  3.07  13.3475  17.795  24.1275  50.81\n",
       "tip         244.0   2.998279  1.383638  1.00   2.0000   2.900   3.5625  10.00\n",
       "size        244.0   2.569672  0.951100  1.00   2.0000   2.000   3.0000   6.00"
      ]
     },
     "execution_count": 18,
     "metadata": {},
     "output_type": "execute_result"
    }
   ],
   "source": [
    "df.describe().T"
   ]
  },
  {
   "cell_type": "code",
   "execution_count": 19,
   "id": "69f12b95",
   "metadata": {},
   "outputs": [
    {
     "name": "stdout",
     "output_type": "stream",
     "text": [
      "Requirement already satisfied: researchpy in /Library/Frameworks/Python.framework/Versions/3.9/lib/python3.9/site-packages (0.3.2)\n",
      "Requirement already satisfied: patsy in /Library/Frameworks/Python.framework/Versions/3.9/lib/python3.9/site-packages (from researchpy) (0.5.1)\n",
      "Requirement already satisfied: pandas in /Library/Frameworks/Python.framework/Versions/3.9/lib/python3.9/site-packages (from researchpy) (1.3.0)\n",
      "Requirement already satisfied: numpy in /Library/Frameworks/Python.framework/Versions/3.9/lib/python3.9/site-packages (from researchpy) (1.20.2)\n",
      "Requirement already satisfied: scipy in /Library/Frameworks/Python.framework/Versions/3.9/lib/python3.9/site-packages (from researchpy) (1.6.3)\n",
      "Requirement already satisfied: statsmodels in /Library/Frameworks/Python.framework/Versions/3.9/lib/python3.9/site-packages (from researchpy) (0.12.2)\n",
      "Requirement already satisfied: python-dateutil>=2.7.3 in /Library/Frameworks/Python.framework/Versions/3.9/lib/python3.9/site-packages (from pandas->researchpy) (2.8.1)\n",
      "Requirement already satisfied: pytz>=2017.3 in /Library/Frameworks/Python.framework/Versions/3.9/lib/python3.9/site-packages (from pandas->researchpy) (2021.1)\n",
      "Requirement already satisfied: six>=1.5 in /Library/Frameworks/Python.framework/Versions/3.9/lib/python3.9/site-packages (from python-dateutil>=2.7.3->pandas->researchpy) (1.15.0)\n",
      "\u001b[33mWARNING: You are using pip version 21.0.1; however, version 21.2.2 is available.\n",
      "You should consider upgrading via the '/Library/Frameworks/Python.framework/Versions/3.9/bin/python3 -m pip install --upgrade pip' command.\u001b[0m\n"
     ]
    }
   ],
   "source": [
    "!pip3 install researchpy\n",
    "import researchpy as rp"
   ]
  },
  {
   "cell_type": "code",
   "execution_count": 20,
   "id": "99d2741d",
   "metadata": {},
   "outputs": [
    {
     "name": "stdout",
     "output_type": "stream",
     "text": [
      "\n",
      "\n"
     ]
    },
    {
     "data": {
      "text/html": [
       "<div>\n",
       "<style scoped>\n",
       "    .dataframe tbody tr th:only-of-type {\n",
       "        vertical-align: middle;\n",
       "    }\n",
       "\n",
       "    .dataframe tbody tr th {\n",
       "        vertical-align: top;\n",
       "    }\n",
       "\n",
       "    .dataframe thead th {\n",
       "        text-align: right;\n",
       "    }\n",
       "</style>\n",
       "<table border=\"1\" class=\"dataframe\">\n",
       "  <thead>\n",
       "    <tr style=\"text-align: right;\">\n",
       "      <th></th>\n",
       "      <th>Variable</th>\n",
       "      <th>N</th>\n",
       "      <th>Mean</th>\n",
       "      <th>SD</th>\n",
       "      <th>SE</th>\n",
       "      <th>95% Conf.</th>\n",
       "      <th>Interval</th>\n",
       "    </tr>\n",
       "  </thead>\n",
       "  <tbody>\n",
       "    <tr>\n",
       "      <th>0</th>\n",
       "      <td>total_bill</td>\n",
       "      <td>244.0</td>\n",
       "      <td>19.7859</td>\n",
       "      <td>8.9024</td>\n",
       "      <td>0.5699</td>\n",
       "      <td>18.6633</td>\n",
       "      <td>20.9086</td>\n",
       "    </tr>\n",
       "    <tr>\n",
       "      <th>1</th>\n",
       "      <td>tip</td>\n",
       "      <td>244.0</td>\n",
       "      <td>2.9983</td>\n",
       "      <td>1.3836</td>\n",
       "      <td>0.0886</td>\n",
       "      <td>2.8238</td>\n",
       "      <td>3.1728</td>\n",
       "    </tr>\n",
       "    <tr>\n",
       "      <th>2</th>\n",
       "      <td>size</td>\n",
       "      <td>244.0</td>\n",
       "      <td>2.5697</td>\n",
       "      <td>0.9511</td>\n",
       "      <td>0.0609</td>\n",
       "      <td>2.4497</td>\n",
       "      <td>2.6896</td>\n",
       "    </tr>\n",
       "  </tbody>\n",
       "</table>\n",
       "</div>"
      ],
      "text/plain": [
       "     Variable      N     Mean      SD      SE  95% Conf.  Interval\n",
       "0  total_bill  244.0  19.7859  8.9024  0.5699    18.6633   20.9086\n",
       "1         tip  244.0   2.9983  1.3836  0.0886     2.8238    3.1728\n",
       "2        size  244.0   2.5697  0.9511  0.0609     2.4497    2.6896"
      ]
     },
     "execution_count": 20,
     "metadata": {},
     "output_type": "execute_result"
    }
   ],
   "source": [
    "rp.summary_cont(df[[\"total_bill\",\"tip\",\"size\"]])  # Sayisal Degerler icin summary_cont\n",
    "# SE : Standart Hatasi\n",
    "# %95 Conf. : Guven Araliklari"
   ]
  },
  {
   "cell_type": "code",
   "execution_count": 21,
   "id": "69344b54",
   "metadata": {},
   "outputs": [
    {
     "data": {
      "text/html": [
       "<div>\n",
       "<style scoped>\n",
       "    .dataframe tbody tr th:only-of-type {\n",
       "        vertical-align: middle;\n",
       "    }\n",
       "\n",
       "    .dataframe tbody tr th {\n",
       "        vertical-align: top;\n",
       "    }\n",
       "\n",
       "    .dataframe thead th {\n",
       "        text-align: right;\n",
       "    }\n",
       "</style>\n",
       "<table border=\"1\" class=\"dataframe\">\n",
       "  <thead>\n",
       "    <tr style=\"text-align: right;\">\n",
       "      <th></th>\n",
       "      <th>Variable</th>\n",
       "      <th>Outcome</th>\n",
       "      <th>Count</th>\n",
       "      <th>Percent</th>\n",
       "    </tr>\n",
       "  </thead>\n",
       "  <tbody>\n",
       "    <tr>\n",
       "      <th>0</th>\n",
       "      <td>sex</td>\n",
       "      <td>Male</td>\n",
       "      <td>157</td>\n",
       "      <td>64.34</td>\n",
       "    </tr>\n",
       "    <tr>\n",
       "      <th>1</th>\n",
       "      <td></td>\n",
       "      <td>Female</td>\n",
       "      <td>87</td>\n",
       "      <td>35.66</td>\n",
       "    </tr>\n",
       "    <tr>\n",
       "      <th>2</th>\n",
       "      <td>smoker</td>\n",
       "      <td>No</td>\n",
       "      <td>151</td>\n",
       "      <td>61.89</td>\n",
       "    </tr>\n",
       "    <tr>\n",
       "      <th>3</th>\n",
       "      <td></td>\n",
       "      <td>Yes</td>\n",
       "      <td>93</td>\n",
       "      <td>38.11</td>\n",
       "    </tr>\n",
       "    <tr>\n",
       "      <th>4</th>\n",
       "      <td>day</td>\n",
       "      <td>Sat</td>\n",
       "      <td>87</td>\n",
       "      <td>35.66</td>\n",
       "    </tr>\n",
       "    <tr>\n",
       "      <th>5</th>\n",
       "      <td></td>\n",
       "      <td>Sun</td>\n",
       "      <td>76</td>\n",
       "      <td>31.15</td>\n",
       "    </tr>\n",
       "    <tr>\n",
       "      <th>6</th>\n",
       "      <td></td>\n",
       "      <td>Thur</td>\n",
       "      <td>62</td>\n",
       "      <td>25.41</td>\n",
       "    </tr>\n",
       "    <tr>\n",
       "      <th>7</th>\n",
       "      <td></td>\n",
       "      <td>Fri</td>\n",
       "      <td>19</td>\n",
       "      <td>7.79</td>\n",
       "    </tr>\n",
       "  </tbody>\n",
       "</table>\n",
       "</div>"
      ],
      "text/plain": [
       "  Variable Outcome  Count  Percent\n",
       "0      sex    Male    157    64.34\n",
       "1           Female     87    35.66\n",
       "2   smoker      No    151    61.89\n",
       "3              Yes     93    38.11\n",
       "4      day     Sat     87    35.66\n",
       "5              Sun     76    31.15\n",
       "6             Thur     62    25.41\n",
       "7              Fri     19     7.79"
      ]
     },
     "execution_count": 21,
     "metadata": {},
     "output_type": "execute_result"
    }
   ],
   "source": [
    "rp.summary_cat(df[[\"sex\",\"smoker\",\"day\"]]) # Kategorik degiskenler icin summary_cat"
   ]
  },
  {
   "cell_type": "code",
   "execution_count": 22,
   "id": "d0fe2eb4",
   "metadata": {},
   "outputs": [
    {
     "data": {
      "text/html": [
       "<div>\n",
       "<style scoped>\n",
       "    .dataframe tbody tr th:only-of-type {\n",
       "        vertical-align: middle;\n",
       "    }\n",
       "\n",
       "    .dataframe tbody tr th {\n",
       "        vertical-align: top;\n",
       "    }\n",
       "\n",
       "    .dataframe thead th {\n",
       "        text-align: right;\n",
       "    }\n",
       "</style>\n",
       "<table border=\"1\" class=\"dataframe\">\n",
       "  <thead>\n",
       "    <tr style=\"text-align: right;\">\n",
       "      <th></th>\n",
       "      <th>tip</th>\n",
       "      <th>total_bill</th>\n",
       "    </tr>\n",
       "  </thead>\n",
       "  <tbody>\n",
       "    <tr>\n",
       "      <th>tip</th>\n",
       "      <td>1.914455</td>\n",
       "      <td>8.323502</td>\n",
       "    </tr>\n",
       "    <tr>\n",
       "      <th>total_bill</th>\n",
       "      <td>8.323502</td>\n",
       "      <td>79.252939</td>\n",
       "    </tr>\n",
       "  </tbody>\n",
       "</table>\n",
       "</div>"
      ],
      "text/plain": [
       "                 tip  total_bill\n",
       "tip         1.914455    8.323502\n",
       "total_bill  8.323502   79.252939"
      ]
     },
     "execution_count": 22,
     "metadata": {},
     "output_type": "execute_result"
    }
   ],
   "source": [
    "df[[\"tip\",\"total_bill\"]].cov() # Kovaryansi"
   ]
  },
  {
   "cell_type": "code",
   "execution_count": 23,
   "id": "d5823b88",
   "metadata": {},
   "outputs": [
    {
     "data": {
      "text/html": [
       "<div>\n",
       "<style scoped>\n",
       "    .dataframe tbody tr th:only-of-type {\n",
       "        vertical-align: middle;\n",
       "    }\n",
       "\n",
       "    .dataframe tbody tr th {\n",
       "        vertical-align: top;\n",
       "    }\n",
       "\n",
       "    .dataframe thead th {\n",
       "        text-align: right;\n",
       "    }\n",
       "</style>\n",
       "<table border=\"1\" class=\"dataframe\">\n",
       "  <thead>\n",
       "    <tr style=\"text-align: right;\">\n",
       "      <th></th>\n",
       "      <th>tip</th>\n",
       "      <th>total_bill</th>\n",
       "    </tr>\n",
       "  </thead>\n",
       "  <tbody>\n",
       "    <tr>\n",
       "      <th>tip</th>\n",
       "      <td>1.000000</td>\n",
       "      <td>0.675734</td>\n",
       "    </tr>\n",
       "    <tr>\n",
       "      <th>total_bill</th>\n",
       "      <td>0.675734</td>\n",
       "      <td>1.000000</td>\n",
       "    </tr>\n",
       "  </tbody>\n",
       "</table>\n",
       "</div>"
      ],
      "text/plain": [
       "                 tip  total_bill\n",
       "tip         1.000000    0.675734\n",
       "total_bill  0.675734    1.000000"
      ]
     },
     "execution_count": 23,
     "metadata": {},
     "output_type": "execute_result"
    }
   ],
   "source": [
    "df[[\"tip\",\"total_bill\"]].corr() # Kolerasyonu"
   ]
  },
  {
   "cell_type": "markdown",
   "id": "3dfe422e",
   "metadata": {},
   "source": [
    "## __İş Uygulaması: Fiyat Stratejisi Karar Destek__\n",
    "\n",
    "1000 kisiye urune verebilecegi deger sorulmustur ve 10 ile 110$ arasinda 1000 tahmin gelmisitr "
   ]
  },
  {
   "cell_type": "markdown",
   "id": "6dacafe1",
   "metadata": {},
   "source": [
    "$\n",
    "Guven Araligi = \\bar{x} \\mp z\\frac{s}{\\sqrt{n}}\n",
    "$"
   ]
  },
  {
   "cell_type": "code",
   "execution_count": 24,
   "id": "6e5c2760",
   "metadata": {},
   "outputs": [],
   "source": [
    "fiyatlar = np.random.randint(10,110,1000)"
   ]
  },
  {
   "cell_type": "code",
   "execution_count": 25,
   "id": "7aab60f2",
   "metadata": {},
   "outputs": [
    {
     "data": {
      "text/plain": [
       "58.492"
      ]
     },
     "execution_count": 25,
     "metadata": {},
     "output_type": "execute_result"
    }
   ],
   "source": [
    "fiyatlar.mean()"
   ]
  },
  {
   "cell_type": "code",
   "execution_count": 26,
   "id": "13dc55bc",
   "metadata": {},
   "outputs": [],
   "source": [
    "import statsmodels.stats.api as sms"
   ]
  },
  {
   "cell_type": "code",
   "execution_count": 27,
   "id": "21a573ba",
   "metadata": {},
   "outputs": [
    {
     "data": {
      "text/plain": [
       "(56.67953887736034, 60.30446112263965)"
      ]
     },
     "execution_count": 27,
     "metadata": {},
     "output_type": "execute_result"
    }
   ],
   "source": [
    "sms.DescrStatsW(fiyatlar).tconfint_mean() # & 95 Guven araligi ile kullanicilarin odemeyi goze alacagi fiyat araligi"
   ]
  },
  {
   "cell_type": "markdown",
   "id": "97f65fa7",
   "metadata": {},
   "source": [
    "__Kendim Bu fonksiyonun yaptigi sekilde %95 Guven araligi Ile hesap yapmak istiyorum__"
   ]
  },
  {
   "cell_type": "code",
   "execution_count": 28,
   "id": "28f87eb8",
   "metadata": {},
   "outputs": [],
   "source": [
    "import pandas as pd"
   ]
  },
  {
   "cell_type": "code",
   "execution_count": 29,
   "id": "58d3b364",
   "metadata": {},
   "outputs": [],
   "source": [
    "df=pd.DataFrame(data=fiyatlar)"
   ]
  },
  {
   "cell_type": "code",
   "execution_count": 30,
   "id": "5a12d778",
   "metadata": {},
   "outputs": [
    {
     "data": {
      "text/html": [
       "<div>\n",
       "<style scoped>\n",
       "    .dataframe tbody tr th:only-of-type {\n",
       "        vertical-align: middle;\n",
       "    }\n",
       "\n",
       "    .dataframe tbody tr th {\n",
       "        vertical-align: top;\n",
       "    }\n",
       "\n",
       "    .dataframe thead th {\n",
       "        text-align: right;\n",
       "    }\n",
       "</style>\n",
       "<table border=\"1\" class=\"dataframe\">\n",
       "  <thead>\n",
       "    <tr style=\"text-align: right;\">\n",
       "      <th></th>\n",
       "      <th>0</th>\n",
       "    </tr>\n",
       "  </thead>\n",
       "  <tbody>\n",
       "    <tr>\n",
       "      <th>count</th>\n",
       "      <td>1000.000000</td>\n",
       "    </tr>\n",
       "    <tr>\n",
       "      <th>mean</th>\n",
       "      <td>58.492000</td>\n",
       "    </tr>\n",
       "    <tr>\n",
       "      <th>std</th>\n",
       "      <td>29.207482</td>\n",
       "    </tr>\n",
       "    <tr>\n",
       "      <th>min</th>\n",
       "      <td>10.000000</td>\n",
       "    </tr>\n",
       "    <tr>\n",
       "      <th>25%</th>\n",
       "      <td>33.000000</td>\n",
       "    </tr>\n",
       "    <tr>\n",
       "      <th>50%</th>\n",
       "      <td>58.000000</td>\n",
       "    </tr>\n",
       "    <tr>\n",
       "      <th>75%</th>\n",
       "      <td>84.000000</td>\n",
       "    </tr>\n",
       "    <tr>\n",
       "      <th>max</th>\n",
       "      <td>109.000000</td>\n",
       "    </tr>\n",
       "  </tbody>\n",
       "</table>\n",
       "</div>"
      ],
      "text/plain": [
       "                 0\n",
       "count  1000.000000\n",
       "mean     58.492000\n",
       "std      29.207482\n",
       "min      10.000000\n",
       "25%      33.000000\n",
       "50%      58.000000\n",
       "75%      84.000000\n",
       "max     109.000000"
      ]
     },
     "execution_count": 30,
     "metadata": {},
     "output_type": "execute_result"
    }
   ],
   "source": [
    "df.describe()"
   ]
  },
  {
   "cell_type": "code",
   "execution_count": 31,
   "id": "fcbae9c4",
   "metadata": {},
   "outputs": [],
   "source": [
    "ss=((((df.mean()-df)**2).sum())/999)**0.5 # SS Hesabi"
   ]
  },
  {
   "cell_type": "code",
   "execution_count": 32,
   "id": "a1ecc27c",
   "metadata": {},
   "outputs": [
    {
     "data": {
      "text/plain": [
       "(0    56.698174\n",
       " dtype: float64,\n",
       " 0    60.281826\n",
       " dtype: float64)"
      ]
     },
     "execution_count": 32,
     "metadata": {},
     "output_type": "execute_result"
    }
   ],
   "source": [
    "58.49 - (1.94 * (ss / ((1000)**0.5))) , 58.49 + (1.94 * (ss / ((1000)**0.5)))"
   ]
  },
  {
   "cell_type": "code",
   "execution_count": 33,
   "id": "3dbe1847",
   "metadata": {},
   "outputs": [
    {
     "name": "stdout",
     "output_type": "stream",
     "text": [
      "\n",
      "\n"
     ]
    },
    {
     "data": {
      "text/html": [
       "<div>\n",
       "<style scoped>\n",
       "    .dataframe tbody tr th:only-of-type {\n",
       "        vertical-align: middle;\n",
       "    }\n",
       "\n",
       "    .dataframe tbody tr th {\n",
       "        vertical-align: top;\n",
       "    }\n",
       "\n",
       "    .dataframe thead th {\n",
       "        text-align: right;\n",
       "    }\n",
       "</style>\n",
       "<table border=\"1\" class=\"dataframe\">\n",
       "  <thead>\n",
       "    <tr style=\"text-align: right;\">\n",
       "      <th></th>\n",
       "      <th>Variable</th>\n",
       "      <th>N</th>\n",
       "      <th>Mean</th>\n",
       "      <th>SD</th>\n",
       "      <th>SE</th>\n",
       "      <th>95% Conf.</th>\n",
       "      <th>Interval</th>\n",
       "    </tr>\n",
       "  </thead>\n",
       "  <tbody>\n",
       "    <tr>\n",
       "      <th>0</th>\n",
       "      <td>0.0</td>\n",
       "      <td>1000.0</td>\n",
       "      <td>58.492</td>\n",
       "      <td>29.2075</td>\n",
       "      <td>0.9236</td>\n",
       "      <td>56.6795</td>\n",
       "      <td>60.3045</td>\n",
       "    </tr>\n",
       "  </tbody>\n",
       "</table>\n",
       "</div>"
      ],
      "text/plain": [
       "   Variable       N    Mean       SD      SE  95% Conf.  Interval\n",
       "0       0.0  1000.0  58.492  29.2075  0.9236    56.6795   60.3045"
      ]
     },
     "execution_count": 33,
     "metadata": {},
     "output_type": "execute_result"
    }
   ],
   "source": [
    "import researchpy as rp\n",
    "rp.summary_cont(df) # buda 3. yol..."
   ]
  },
  {
   "cell_type": "markdown",
   "id": "63c95ed1",
   "metadata": {},
   "source": [
    "# Olasılık Dağılımları\n",
    "\n",
    "## Bernoulli Dağılımı\n",
    "Basarili - Basarisiz , Olumlu - Olumsuz seklinde iki sonuclu olaylar ile ilgilenildiginde kullanilan kesikli olasilik dagilimidir\n",
    "\n",
    "${\\displaystyle f(k;p)=p^{k}(1-p)^{1-k}\\quad {\\text{for }}k\\in \\{0,1\\}}$\n",
    "\n",
    "$ ~Beklenen Deger\\rightarrow  {\\displaystyle \\operatorname {E} \\left(X\\right)=p}$\n",
    "\n",
    "$Varyans\\rightarrow  \\operatorname {Var} [X]=pq=p(1-p)$"
   ]
  },
  {
   "cell_type": "code",
   "execution_count": 34,
   "id": "0f501000",
   "metadata": {},
   "outputs": [],
   "source": [
    "from scipy.stats import bernoulli"
   ]
  },
  {
   "cell_type": "code",
   "execution_count": 35,
   "id": "d150bb9e",
   "metadata": {},
   "outputs": [],
   "source": [
    "p = 0.6 # Tura gelme olasiligi % 60 olsun"
   ]
  },
  {
   "cell_type": "code",
   "execution_count": 36,
   "id": "ae87e634",
   "metadata": {},
   "outputs": [
    {
     "data": {
      "text/plain": [
       "0.6"
      ]
     },
     "execution_count": 36,
     "metadata": {},
     "output_type": "execute_result"
    }
   ],
   "source": [
    "rv=bernoulli(p)\n",
    "rv.pmf(k=1)      # probabilty mass func. -> Olasilik Kutle fonksiyonu "
   ]
  },
  {
   "cell_type": "markdown",
   "id": "c373691b",
   "metadata": {},
   "source": [
    "## Büyük Sayılar Yasası\n",
    "**Bir rassal değişkenin uzun vadeli kararlılığını tanımlayan olasılık teoremidir.**"
   ]
  },
  {
   "cell_type": "code",
   "execution_count": 37,
   "id": "ecaffa42",
   "metadata": {},
   "outputs": [
    {
     "data": {
      "text/plain": [
       "array([1, 0, 0, 1, 1])"
      ]
     },
     "execution_count": 37,
     "metadata": {},
     "output_type": "execute_result"
    }
   ],
   "source": [
    "yazi_tura=np.random.randint(0,2,5)\n",
    "yazi_tura \n",
    "# 0 tura dersek 1 kez tura gelmis oldu o halde bu deneyin sonucuna gore tura gelme olasiligi 0.2 ?"
   ]
  },
  {
   "cell_type": "code",
   "execution_count": 38,
   "id": "497600b8",
   "metadata": {
    "scrolled": true
   },
   "outputs": [
    {
     "name": "stdout",
     "output_type": "stream",
     "text": [
      "Atış Sayısı: 2 --- Yazı Olasılığı: 50.00\n",
      "Atış Sayısı: 4 --- Yazı Olasılığı: 0.00\n",
      "Atış Sayısı: 8 --- Yazı Olasılığı: 62.50\n",
      "Atış Sayısı: 16 --- Yazı Olasılığı: 43.75\n",
      "Atış Sayısı: 32 --- Yazı Olasılığı: 46.88\n",
      "Atış Sayısı: 64 --- Yazı Olasılığı: 56.25\n",
      "Atış Sayısı: 128 --- Yazı Olasılığı: 50.78\n",
      "Atış Sayısı: 256 --- Yazı Olasılığı: 52.73\n",
      "Atış Sayısı: 512 --- Yazı Olasılığı: 52.93\n",
      "Atış Sayısı: 1024 --- Yazı Olasılığı: 50.20\n",
      "Atış Sayısı: 2048 --- Yazı Olasılığı: 48.58\n",
      "Atış Sayısı: 4096 --- Yazı Olasılığı: 49.49\n",
      "Atış Sayısı: 8192 --- Yazı Olasılığı: 49.58\n",
      "Atış Sayısı: 16384 --- Yazı Olasılığı: 49.96\n",
      "Atış Sayısı: 32768 --- Yazı Olasılığı: 50.00\n",
      "Atış Sayısı: 65536 --- Yazı Olasılığı: 49.68\n",
      "Atış Sayısı: 131072 --- Yazı Olasılığı: 49.97\n",
      "Atış Sayısı: 262144 --- Yazı Olasılığı: 50.13\n",
      "Atış Sayısı: 524288 --- Yazı Olasılığı: 50.01\n",
      "Atış Sayısı: 1048576 --- Yazı Olasılığı: 50.09\n"
     ]
    }
   ],
   "source": [
    "import numpy as np\n",
    "rng = np.random.RandomState(123) # seed atmak gibi\n",
    "for i in np.arange(1,21):\n",
    "    deney_sayisi = 2**i\n",
    "    yazi_turalar = rng.randint(0, 2, size = deney_sayisi)\n",
    "    yazi_olasiliklari = np.mean(yazi_turalar)\n",
    "    print(\"Atış Sayısı:\",deney_sayisi,\"---\",'Yazı Olasılığı: %.2f' % (yazi_olasiliklari * 100))"
   ]
  },
  {
   "cell_type": "markdown",
   "id": "e3fa9dd7",
   "metadata": {},
   "source": [
    "## Binom Dagilimi\n",
    " Bagimsiz n Denemede sonucu  k basarili olma olasiligi ile ilgilenildiginde kullanilan dagilimdir   \n",
    "${\\displaystyle f(k;n,p)={n \\choose k}p^{k}(1-p)^{n-k}}$, k = 0, 1, 2, ...,n \n",
    "\n",
    "\n",
    "${\\displaystyle \\operatorname {E} (X)=np}$\n",
    "\n",
    "\n",
    "${\\displaystyle \\operatorname {Var} (X)=np(1-p)}$\n",
    "\n",
    "\n",
    "### __Is Uygulamasi :Reklam Harcamasi Optimizasyonu__"
   ]
  },
  {
   "cell_type": "code",
   "execution_count": 39,
   "id": "180630f2",
   "metadata": {},
   "outputs": [],
   "source": [
    "from scipy.stats import binom"
   ]
  },
  {
   "cell_type": "code",
   "execution_count": 40,
   "id": "a6518df5",
   "metadata": {},
   "outputs": [
    {
     "name": "stdout",
     "output_type": "stream",
     "text": [
      "0.36972963764971983\n",
      "0.0028977871237616114\n",
      "7.006035693977161e-08\n"
     ]
    }
   ],
   "source": [
    "p = 0.01 # Reklama Tiklama Olasiligi\n",
    "n = 100 # 100 kisi reklami gorecek\n",
    "rv = binom(n, p) \n",
    "print(rv.pmf(1)) # 1 kisi gordugunde tiklama olasiligi\n",
    "print(rv.pmf(5)) # 5 kisi gordugunde tiklama olasiligi\n",
    "print(rv.pmf(10)) # 10 kisi gordugunde reklama tiklama olasiligi"
   ]
  },
  {
   "cell_type": "markdown",
   "id": "79119b22",
   "metadata": {},
   "source": [
    "## Poisson Dağılımı\n",
    "Belirli bir zaman araliginda belirli bir alanda nadiren rastlanan olaylarin olasiliklarini hesaplamak icin kullanilir  \n",
    "${\\displaystyle f(x,\\lambda )={\\frac {\\lambda ^{x}e^{-\\lambda }}{x!}}\\,\\!}$,  x = 0,1,2,...,n\n",
    "\n",
    "## __Is Uygulamasi : Ilan Girisi Hata Olasiliklarinin Hesaplanmasi__\n",
    "- Classifieds sitesinde Bir yil olcum yapiliyor \n",
    "- Ortalama Hata Sayisi 0.1 (lambda)\n",
    "- Hic Hata olmamamasi 3 Hata olmasi 5 Hata olmasi ?"
   ]
  },
  {
   "cell_type": "code",
   "execution_count": 41,
   "id": "79707168",
   "metadata": {},
   "outputs": [],
   "source": [
    "from scipy.stats import poisson"
   ]
  },
  {
   "cell_type": "code",
   "execution_count": 42,
   "id": "f8395589",
   "metadata": {},
   "outputs": [],
   "source": [
    "lambda_=0.1"
   ]
  },
  {
   "cell_type": "code",
   "execution_count": 43,
   "id": "66434c5b",
   "metadata": {},
   "outputs": [
    {
     "data": {
      "text/plain": [
       "0.9048374180359595"
      ]
     },
     "execution_count": 43,
     "metadata": {},
     "output_type": "execute_result"
    }
   ],
   "source": [
    "rv = poisson(mu=lambda_)\n",
    "rv.pmf(k=0) # Hic Hata olmama olasiligi"
   ]
  },
  {
   "cell_type": "code",
   "execution_count": 44,
   "id": "0dd7592a",
   "metadata": {},
   "outputs": [
    {
     "data": {
      "text/plain": [
       "0.00015080623633932676"
      ]
     },
     "execution_count": 44,
     "metadata": {},
     "output_type": "execute_result"
    }
   ],
   "source": [
    "rv.pmf(k=3) # 3 Hata Olma olasiligi"
   ]
  },
  {
   "cell_type": "code",
   "execution_count": 45,
   "id": "9bd96da8",
   "metadata": {},
   "outputs": [
    {
     "data": {
      "text/plain": [
       "7.54031181696634e-08"
      ]
     },
     "execution_count": 45,
     "metadata": {},
     "output_type": "execute_result"
    }
   ],
   "source": [
    "rv.pmf(k=5) # 5 Hata olma olasiligi"
   ]
  },
  {
   "cell_type": "markdown",
   "id": "b86363c9",
   "metadata": {},
   "source": [
    "## Normal Dagilim\n",
    "\n",
    "Normal Dagildigi bilinen surekli rassal degiskenler icin olasilik hesabinda kullanilir\n",
    "\n",
    "${\\displaystyle f(x\\mid \\mu ,\\sigma ^{2})={\\frac {1}{\\sqrt {2\\pi \\sigma ^{2}}}}e^{-{\\frac {(x-\\mu )^{2}}{2\\sigma ^{2}}}}}$\n",
    "\n",
    "* $\\mu$  ortalama ya da dağılımın beklenen değeri\n",
    "\n",
    "* ${\\displaystyle \\sigma }$  standart sapma\n",
    "\n",
    "* ${\\displaystyle \\sigma ^{2}}$ varyans"
   ]
  },
  {
   "cell_type": "markdown",
   "id": "b6032a71",
   "metadata": {},
   "source": [
    "## __Is Uygulamasi : Satis Olasiliklarinin Hesaplanmasi__\n",
    "\n",
    "- Dagilimin normal oldugu biliniyor \n",
    "- Aylik Ortalama satis sayisi 80k standart sapmasi 5k \n",
    "- 90k 'dan fazla satis yapma olasiligi??\n"
   ]
  },
  {
   "cell_type": "code",
   "execution_count": 46,
   "id": "83a1d338",
   "metadata": {},
   "outputs": [],
   "source": [
    "from scipy.stats import norm"
   ]
  },
  {
   "cell_type": "code",
   "execution_count": 47,
   "id": "c3b1abd7",
   "metadata": {},
   "outputs": [
    {
     "data": {
      "text/plain": [
       "0.02275013194817921"
      ]
     },
     "execution_count": 47,
     "metadata": {},
     "output_type": "execute_result"
    }
   ],
   "source": [
    "1-norm.cdf(90,80,5) # 90 : Hesaplamak istdigimiz arguman , 80 Ort , 5 ss\n",
    "# cdf : cumulative densitiy func.\n",
    "# 90 dan fazla olma olasiligi"
   ]
  },
  {
   "cell_type": "code",
   "execution_count": 48,
   "id": "7892fe30",
   "metadata": {},
   "outputs": [
    {
     "data": {
      "text/plain": [
       "0.9772498680518208"
      ]
     },
     "execution_count": 48,
     "metadata": {},
     "output_type": "execute_result"
    }
   ],
   "source": [
    "1-norm.cdf(70,80,5) # 70 den fazla olma olasiligi"
   ]
  },
  {
   "cell_type": "code",
   "execution_count": 49,
   "id": "e725c8a4",
   "metadata": {},
   "outputs": [
    {
     "data": {
      "text/plain": [
       "0.08075665923377107"
      ]
     },
     "execution_count": 49,
     "metadata": {},
     "output_type": "execute_result"
    }
   ],
   "source": [
    "norm.cdf(73,80,5) # 73 den az olma olasiligi ? \n",
    "# BU KEZ 1 DEN CIKARTMIYORUZ !!"
   ]
  },
  {
   "cell_type": "code",
   "execution_count": 50,
   "id": "e784386d",
   "metadata": {},
   "outputs": [
    {
     "data": {
      "text/plain": [
       "0.13590512198327787"
      ]
     },
     "execution_count": 50,
     "metadata": {},
     "output_type": "execute_result"
    }
   ],
   "source": [
    "norm.cdf(90,80,5) - norm.cdf(85,80,5) # 90 dan az alandan 85 den az alan cikartilir\n",
    "\n",
    "# 85 ile 90 arasinda olma olasiligi"
   ]
  },
  {
   "cell_type": "markdown",
   "id": "b63a7752",
   "metadata": {},
   "source": [
    "**PVALUE**\n",
    "![pval](http://3.bp.blogspot.com/-y_hvRb5anNc/VTGkru5LZeI/AAAAAAAABNo/GAVvAbPS-CQ/s1600/worship.gif)"
   ]
  },
  {
   "cell_type": "markdown",
   "id": "a4f1a042",
   "metadata": {},
   "source": [
    "# Tek Örneklem T Testi\n",
    "\n",
    "Örnek ortalamasına ilişkin test yapmak için kullanılır.\n",
    "\n",
    "**Hipotezler:**\n",
    "\n",
    "<d><i>H</i><sub>0</sub>: <i>μ</i> = <i>50</i></d>   \n",
    "<d><i>H</i><sub>1</sub>: <i>μ</i> ≠ <i>50</i></d><br><br>\n",
    "\n",
    "<d><i>H</i><sub>0</sub>: <i>μ</i> <= <i>50</i></d><br>\n",
    "<d><i>H</i><sub>1</sub>: <i>μ</i> > <i>50</i></d><br><br>\n",
    "\n",
    "<d><i>H</i><sub>0</sub>: <i>μ</i> >= <i>50</i></d><br>\n",
    "<d><i>H</i><sub>1</sub>: <i>μ</i> < <i>50</i></d><br><br>\n",
    "\n",
    "\n",
    "\n",
    "\n",
    "<table></table>\n",
    "\n",
    "**Test İstatistiği:**\n",
    "\n",
    "${\\displaystyle t={\\frac {{\\bar {x}}-\\mu _{0}}{\\frac {s}{\\sqrt {n}}}}}$\n",
    "\n"
   ]
  },
  {
   "cell_type": "markdown",
   "id": "3d635ab7",
   "metadata": {},
   "source": [
    "## __Is Uygulamasi : Urun Satin Alma Adim Optimizasyonu__\n",
    "Problem : Sepete Urun ekleme islemi sonrasinda odeme ekraninda 5 tane adim vardir.Ve bu adimlarin birisi sorgulanmaktadir.\n",
    "\n",
    "Detaylar :\n",
    "- Her adimin 20'ser sn olmasi hedefleniyor.\n",
    "- Durumu test etmek icin 100 ornek aliniyor\n",
    "- Ornek standart sapmasi 5 sn , Ornek ortalamasi ise 19 sn \n",
    "\n",
    "\n",
    "__Adim 1__ : Hipotezlerin kurulmasi , Yonlerinin Belirlenmesi \n",
    "\n",
    "__H0: u = 20__  ---> sure orlamasi 20 dir.  \n",
    "__H1: u ≠ 20__  ----> Sure ortalmasi 20 sn degildir\n",
    "\n",
    "__Adim 2__ : Anlamlilik duzeyinin ve tablo degerinin belirlenmesi \n",
    "\n",
    "        a=0.05  Alpha calisma basinda kabul ektigimiz hata miktari \n",
    "        a/2 = 0.025 Alternatif hipotezimiz 2 yonlu oldugundan 2 ye bolunur\n",
    "        Z Tablo olasilik degeri : 0.5 - 0.025 = 0,475\n",
    "        Z Tablo Kritik Degeri : +- 1,96\n",
    "        \n",
    "![Z Table](http://www.nitiphong.com/stat_data/Ztable.pdf)\n",
    "\n",
    "__Adim 3__ : Test Istatisliginin belirlenmesi ve test istatistiginin hesaplanmasi\n",
    "\n",
    "            Zhesap = 19-20 \n",
    "                     ------       = -2.00\n",
    "                     5.(100)**0.5\n",
    "                     \n",
    "__Adim 4__ : Zh > Ztablo -Zh < -Ztablo ise H0 reddedilir.\n",
    "\n",
    "        Zhesap = -2.00 < Ztablo = -1.96 ---> H0 Reddedilir.\n",
    "        \n",
    "__Adim 5__ : Yorum \n",
    "\n",
    "- 4. adimda gecirilen surenin 20 sn oldugunu iddia edilen H0 hipotezi reddedilmistir.  \n",
    "- %95 Guvenirlirlik orani ile 4. adimda kullanicilar 20 snden farkli zaman gecirmektedir "
   ]
  },
  {
   "cell_type": "markdown",
   "id": "4855e535",
   "metadata": {},
   "source": [
    "##  __Is Uygulamasi : Web Sitesinde Gecirilen Surenin Testi__\n",
    "\n",
    "Users: 239   \n",
    "Sessions: 282  \n",
    "Bounce Rate : 64.54%  \n",
    "Session Duration : 1m 58 sn  \n",
    "\n",
    "Problem Web Sitesinde Gecirilen sure gercekten 170 saniyemi ?\n",
    "\n",
    "H0 : u = 170 sn   \n",
    "H1 : u ≠ 170sn\n"
   ]
  },
  {
   "cell_type": "code",
   "execution_count": 51,
   "id": "fb70ea3d",
   "metadata": {},
   "outputs": [],
   "source": [
    "import numpy as np\n",
    "\n",
    "olcumler = np.array([17, 160, 234, 149, 145, 107, 197, 75, 201, 225, 211, 119, \n",
    "              157, 145, 127, 244, 163, 114, 145,  65, 112, 185, 202, 146,\n",
    "              203, 224, 203, 114, 188, 156, 187, 154, 177, 95, 165, 50, 110, \n",
    "              216, 138, 151, 166, 135, 155, 84, 251, 173, 131, 207, 121, 120])"
   ]
  },
  {
   "cell_type": "code",
   "execution_count": 52,
   "id": "a5d586a5",
   "metadata": {},
   "outputs": [
    {
     "data": {
      "text/plain": [
       "array([ 17, 160, 234, 149, 145, 107, 197,  75, 201, 225, 211, 119, 157,\n",
       "       145, 127, 244, 163, 114, 145,  65, 112, 185, 202, 146, 203, 224,\n",
       "       203, 114, 188, 156, 187, 154, 177,  95, 165,  50, 110, 216, 138,\n",
       "       151, 166, 135, 155,  84, 251, 173, 131, 207, 121, 120])"
      ]
     },
     "execution_count": 52,
     "metadata": {},
     "output_type": "execute_result"
    }
   ],
   "source": [
    "olcumler"
   ]
  },
  {
   "cell_type": "code",
   "execution_count": 53,
   "id": "ff974ddb",
   "metadata": {},
   "outputs": [],
   "source": [
    "import scipy.stats as stats"
   ]
  },
  {
   "cell_type": "code",
   "execution_count": 54,
   "id": "a3e87953",
   "metadata": {},
   "outputs": [
    {
     "data": {
      "text/plain": [
       "DescribeResult(nobs=50, minmax=(17, 251), mean=154.38, variance=2578.0363265306123, skewness=-0.32398897278694483, kurtosis=-0.05849823498415985)"
      ]
     },
     "execution_count": 54,
     "metadata": {},
     "output_type": "execute_result"
    }
   ],
   "source": [
    "stats.describe(olcumler) # Veya\n"
   ]
  },
  {
   "cell_type": "code",
   "execution_count": 55,
   "id": "7a8da9c0",
   "metadata": {},
   "outputs": [],
   "source": [
    "import pandas as pd\n",
    "Data=pd.DataFrame(olcumler)"
   ]
  },
  {
   "cell_type": "code",
   "execution_count": 56,
   "id": "68de7631",
   "metadata": {},
   "outputs": [
    {
     "data": {
      "text/html": [
       "<div>\n",
       "<style scoped>\n",
       "    .dataframe tbody tr th:only-of-type {\n",
       "        vertical-align: middle;\n",
       "    }\n",
       "\n",
       "    .dataframe tbody tr th {\n",
       "        vertical-align: top;\n",
       "    }\n",
       "\n",
       "    .dataframe thead th {\n",
       "        text-align: right;\n",
       "    }\n",
       "</style>\n",
       "<table border=\"1\" class=\"dataframe\">\n",
       "  <thead>\n",
       "    <tr style=\"text-align: right;\">\n",
       "      <th></th>\n",
       "      <th>count</th>\n",
       "      <th>mean</th>\n",
       "      <th>std</th>\n",
       "      <th>min</th>\n",
       "      <th>25%</th>\n",
       "      <th>50%</th>\n",
       "      <th>75%</th>\n",
       "      <th>max</th>\n",
       "    </tr>\n",
       "  </thead>\n",
       "  <tbody>\n",
       "    <tr>\n",
       "      <th>0</th>\n",
       "      <td>50.0</td>\n",
       "      <td>154.38</td>\n",
       "      <td>50.774367</td>\n",
       "      <td>17.0</td>\n",
       "      <td>120.25</td>\n",
       "      <td>154.5</td>\n",
       "      <td>194.75</td>\n",
       "      <td>251.0</td>\n",
       "    </tr>\n",
       "  </tbody>\n",
       "</table>\n",
       "</div>"
      ],
      "text/plain": [
       "   count    mean        std   min     25%    50%     75%    max\n",
       "0   50.0  154.38  50.774367  17.0  120.25  154.5  194.75  251.0"
      ]
     },
     "execution_count": 56,
     "metadata": {},
     "output_type": "execute_result"
    }
   ],
   "source": [
    "Data.describe().T # Veya"
   ]
  },
  {
   "cell_type": "code",
   "execution_count": 57,
   "id": "6446e741",
   "metadata": {},
   "outputs": [
    {
     "name": "stdout",
     "output_type": "stream",
     "text": [
      "\n",
      "\n"
     ]
    },
    {
     "data": {
      "text/html": [
       "<div>\n",
       "<style scoped>\n",
       "    .dataframe tbody tr th:only-of-type {\n",
       "        vertical-align: middle;\n",
       "    }\n",
       "\n",
       "    .dataframe tbody tr th {\n",
       "        vertical-align: top;\n",
       "    }\n",
       "\n",
       "    .dataframe thead th {\n",
       "        text-align: right;\n",
       "    }\n",
       "</style>\n",
       "<table border=\"1\" class=\"dataframe\">\n",
       "  <thead>\n",
       "    <tr style=\"text-align: right;\">\n",
       "      <th></th>\n",
       "      <th>Variable</th>\n",
       "      <th>N</th>\n",
       "      <th>Mean</th>\n",
       "      <th>SD</th>\n",
       "      <th>SE</th>\n",
       "      <th>95% Conf.</th>\n",
       "      <th>Interval</th>\n",
       "    </tr>\n",
       "  </thead>\n",
       "  <tbody>\n",
       "    <tr>\n",
       "      <th>0</th>\n",
       "      <td>0.0</td>\n",
       "      <td>50.0</td>\n",
       "      <td>154.38</td>\n",
       "      <td>50.7744</td>\n",
       "      <td>7.1806</td>\n",
       "      <td>139.9501</td>\n",
       "      <td>168.8099</td>\n",
       "    </tr>\n",
       "  </tbody>\n",
       "</table>\n",
       "</div>"
      ],
      "text/plain": [
       "   Variable     N    Mean       SD      SE  95% Conf.  Interval\n",
       "0       0.0  50.0  154.38  50.7744  7.1806   139.9501  168.8099"
      ]
     },
     "execution_count": 57,
     "metadata": {},
     "output_type": "execute_result"
    }
   ],
   "source": [
    "import researchpy as rp\n",
    "rp.summary_cont(Data)"
   ]
  },
  {
   "cell_type": "markdown",
   "id": "f9a684f0",
   "metadata": {},
   "source": [
    "## Varsayimlar \n",
    "## Normallik Varsayimi"
   ]
  },
  {
   "cell_type": "code",
   "execution_count": 58,
   "id": "ae2d933c",
   "metadata": {},
   "outputs": [
    {
     "data": {
      "text/plain": [
       "<AxesSubplot:ylabel='Frequency'>"
      ]
     },
     "execution_count": 58,
     "metadata": {},
     "output_type": "execute_result"
    },
    {
     "data": {
      "image/png": "[encoded data removed]",
      "text/plain": [
       "<Figure size 432x288 with 1 Axes>"
      ]
     },
     "metadata": {
      "needs_background": "light"
     },
     "output_type": "display_data"
    }
   ],
   "source": [
    "# Histogram \n",
    "Data.plot.hist()"
   ]
  },
  {
   "cell_type": "code",
   "execution_count": 59,
   "id": "1f21e6e5",
   "metadata": {},
   "outputs": [
    {
     "data": {
      "image/png": "[encoded data removed]",
      "text/plain": [
       "<Figure size 432x288 with 1 Axes>"
      ]
     },
     "metadata": {
      "needs_background": "light"
     },
     "output_type": "display_data"
    }
   ],
   "source": [
    "# qqplot\n",
    "import pylab\n",
    "stats.probplot(olcumler, dist=\"norm\", plot=pylab)\n",
    "pylab.show()"
   ]
  },
  {
   "cell_type": "markdown",
   "id": "2238b667",
   "metadata": {},
   "source": [
    "## Shapiro-Wilks Testi\n",
    "H0: Örnek dağılımı ile teorik normal dağılım arasında istatiksel olarak anlamli bir fark. yoktur\n",
    "\n",
    "H1: ... fark vardır"
   ]
  },
  {
   "cell_type": "code",
   "execution_count": 60,
   "id": "1d457b13",
   "metadata": {},
   "outputs": [],
   "source": [
    "from scipy.stats import shapiro"
   ]
  },
  {
   "cell_type": "code",
   "execution_count": 61,
   "id": "a5fcecce",
   "metadata": {},
   "outputs": [
    {
     "data": {
      "text/plain": [
       "ShapiroResult(statistic=0.9853105545043945, pvalue=0.7848747968673706)"
      ]
     },
     "execution_count": 61,
     "metadata": {},
     "output_type": "execute_result"
    }
   ],
   "source": [
    "shapiro(Data)"
   ]
  },
  {
   "cell_type": "markdown",
   "id": "89d28cb2",
   "metadata": {},
   "source": [
    "H0 reddedilemez . P val afadan kucuk degildir .\n",
    "\n",
    "- T Testi uygulanabilir o halde"
   ]
  },
  {
   "cell_type": "markdown",
   "id": "dd9c2632",
   "metadata": {},
   "source": [
    "## Hipotez Testinin Uygulanması"
   ]
  },
  {
   "cell_type": "code",
   "execution_count": 62,
   "id": "f086a4ea",
   "metadata": {},
   "outputs": [
    {
     "data": {
      "text/plain": [
       "Ttest_1sampResult(statistic=-2.1753117985877966, pvalue=0.034460415195071446)"
      ]
     },
     "execution_count": 62,
     "metadata": {},
     "output_type": "execute_result"
    }
   ],
   "source": [
    "stats.ttest_1samp(olcumler, popmean = 170)"
   ]
  },
  {
   "cell_type": "markdown",
   "id": "72651f3a",
   "metadata": {},
   "source": [
    "H0: Web sitemizde geçirilen ortalama süre 170'tir   \n",
    "H1: .. değistir"
   ]
  },
  {
   "cell_type": "markdown",
   "id": "940b26be",
   "metadata": {},
   "source": [
    "P Value alpha degerimizden kucuk oldugu icin H0 reddedilir.\n",
    "\n",
    "- Gecirilen Sure 170 den Kucuktur"
   ]
  },
  {
   "cell_type": "markdown",
   "id": "05409f43",
   "metadata": {},
   "source": [
    "## Nonparametrik Tek Örneklem Testi"
   ]
  },
  {
   "cell_type": "code",
   "execution_count": 63,
   "id": "f49bd295",
   "metadata": {},
   "outputs": [],
   "source": [
    "from statsmodels.stats.descriptivestats import sign_test"
   ]
  },
  {
   "cell_type": "code",
   "execution_count": 64,
   "id": "02554dbc",
   "metadata": {},
   "outputs": [
    {
     "data": {
      "text/plain": [
       "(-7.0, 0.06490864707227219)"
      ]
     },
     "execution_count": 64,
     "metadata": {},
     "output_type": "execute_result"
    }
   ],
   "source": [
    "sign_test(olcumler,170) # p val : 0.064 # Az onceki testlerimiz anlamli olmasa bu non-parametrik testlere gore yorum yapmaya devam edicektik"
   ]
  },
  {
   "cell_type": "markdown",
   "id": "5a7f9544",
   "metadata": {},
   "source": [
    "# Tek Orneklem Oran Testi\n",
    "Oransal bir ifade test edilmek istendiginde kullanilir\n",
    "\n",
    "n>30 Olmali\n",
    "\n",
    "HO: p = 0.125 \n",
    "\n",
    "H1: p ≠ 0.125\n",
    "\n",
    "##  __Is Uygulamasi : Donusum Oran Testi__\n",
    "\n",
    "Problem: Bir Yazilim ile bir mecrada reklam verilmis ve bu reklama iliskin yazilim tarafindan 0.125 donusum orani elde edilmistir. Bu yuksek orana karsilik  gelirler karsilastirildiginda durum kontrol edilmek isteniyor.\n",
    "\n",
    "500 kisi tiklamis , 40 alisveris yapilmis . \n",
    "Ornek uzerinden elde edilen donusum orani 40/500 = 0.08"
   ]
  },
  {
   "cell_type": "code",
   "execution_count": 65,
   "id": "9ff06896",
   "metadata": {},
   "outputs": [],
   "source": [
    "from statsmodels.stats.proportion import proportions_ztest"
   ]
  },
  {
   "cell_type": "code",
   "execution_count": 66,
   "id": "9ee5e945",
   "metadata": {},
   "outputs": [],
   "source": [
    "count = 40\n",
    "nobs=500\n",
    "value=0.125"
   ]
  },
  {
   "cell_type": "code",
   "execution_count": 67,
   "id": "68e1a1d7",
   "metadata": {},
   "outputs": [
    {
     "data": {
      "text/plain": [
       "(-3.7090151628513017, 0.0002080669689845979)"
      ]
     },
     "execution_count": 67,
     "metadata": {},
     "output_type": "execute_result"
    }
   ],
   "source": [
    "proportions_ztest(count,nobs,value) "
   ]
  },
  {
   "cell_type": "markdown",
   "id": "cf6d9c64",
   "metadata": {},
   "source": [
    "__H0 Reddedilir.Donusum orani 0.125 degildir.__"
   ]
  },
  {
   "cell_type": "markdown",
   "id": "62254c03",
   "metadata": {},
   "source": [
    "## Bagimsiz Iki Orneklem T Testi (A-B Test)\n",
    "## __Is Uygulamasi : ML Modelinin Basari Testi__\n",
    "\n",
    "Problem : Bir ML Projesine Yatirim yapilmis , Urettigi tahminler neticesinde olusan gelir ile eski uretimin urettigi gelirler karsilastirilip , anlamli farkililik olup olmadigi test edilmek isteniyor.\n",
    "\n",
    "Detaylar :\n",
    "- Model gelistirilmis ve Web sitesine entegre edilmis\n",
    "- Site kullanicilar belirli bir kurala gore ikiye bolunmus olsun.\n",
    "- A Grubu eski B grubu yeni sistem \n",
    "- Gelir anlaminda anlamli bir is yapilip yapilmadigi test edilmek isteniyor.\n",
    "\n",
    "\n",
    "        H0 : µ1 = µ2\n",
    "        H1 : µ1 ≠ µ2\n"
   ]
  },
  {
   "cell_type": "code",
   "execution_count": 68,
   "id": "03555303",
   "metadata": {},
   "outputs": [],
   "source": [
    "# Veri Tipi I"
   ]
  },
  {
   "cell_type": "code",
   "execution_count": 69,
   "id": "6eb1fb00",
   "metadata": {},
   "outputs": [
    {
     "data": {
      "text/html": [
       "<div>\n",
       "<style scoped>\n",
       "    .dataframe tbody tr th:only-of-type {\n",
       "        vertical-align: middle;\n",
       "    }\n",
       "\n",
       "    .dataframe tbody tr th {\n",
       "        vertical-align: top;\n",
       "    }\n",
       "\n",
       "    .dataframe thead th {\n",
       "        text-align: right;\n",
       "    }\n",
       "</style>\n",
       "<table border=\"1\" class=\"dataframe\">\n",
       "  <thead>\n",
       "    <tr style=\"text-align: right;\">\n",
       "      <th></th>\n",
       "      <th>A</th>\n",
       "      <th>B</th>\n",
       "    </tr>\n",
       "  </thead>\n",
       "  <tbody>\n",
       "    <tr>\n",
       "      <th>0</th>\n",
       "      <td>30</td>\n",
       "      <td>37</td>\n",
       "    </tr>\n",
       "    <tr>\n",
       "      <th>1</th>\n",
       "      <td>27</td>\n",
       "      <td>39</td>\n",
       "    </tr>\n",
       "    <tr>\n",
       "      <th>2</th>\n",
       "      <td>21</td>\n",
       "      <td>31</td>\n",
       "    </tr>\n",
       "    <tr>\n",
       "      <th>3</th>\n",
       "      <td>27</td>\n",
       "      <td>31</td>\n",
       "    </tr>\n",
       "    <tr>\n",
       "      <th>4</th>\n",
       "      <td>29</td>\n",
       "      <td>34</td>\n",
       "    </tr>\n",
       "    <tr>\n",
       "      <th>5</th>\n",
       "      <td>30</td>\n",
       "      <td>38</td>\n",
       "    </tr>\n",
       "    <tr>\n",
       "      <th>6</th>\n",
       "      <td>20</td>\n",
       "      <td>30</td>\n",
       "    </tr>\n",
       "    <tr>\n",
       "      <th>7</th>\n",
       "      <td>20</td>\n",
       "      <td>36</td>\n",
       "    </tr>\n",
       "    <tr>\n",
       "      <th>8</th>\n",
       "      <td>27</td>\n",
       "      <td>29</td>\n",
       "    </tr>\n",
       "    <tr>\n",
       "      <th>9</th>\n",
       "      <td>32</td>\n",
       "      <td>28</td>\n",
       "    </tr>\n",
       "    <tr>\n",
       "      <th>10</th>\n",
       "      <td>35</td>\n",
       "      <td>38</td>\n",
       "    </tr>\n",
       "    <tr>\n",
       "      <th>11</th>\n",
       "      <td>22</td>\n",
       "      <td>28</td>\n",
       "    </tr>\n",
       "    <tr>\n",
       "      <th>12</th>\n",
       "      <td>24</td>\n",
       "      <td>37</td>\n",
       "    </tr>\n",
       "    <tr>\n",
       "      <th>13</th>\n",
       "      <td>23</td>\n",
       "      <td>37</td>\n",
       "    </tr>\n",
       "    <tr>\n",
       "      <th>14</th>\n",
       "      <td>25</td>\n",
       "      <td>30</td>\n",
       "    </tr>\n",
       "    <tr>\n",
       "      <th>15</th>\n",
       "      <td>27</td>\n",
       "      <td>32</td>\n",
       "    </tr>\n",
       "    <tr>\n",
       "      <th>16</th>\n",
       "      <td>23</td>\n",
       "      <td>31</td>\n",
       "    </tr>\n",
       "    <tr>\n",
       "      <th>17</th>\n",
       "      <td>27</td>\n",
       "      <td>31</td>\n",
       "    </tr>\n",
       "    <tr>\n",
       "      <th>18</th>\n",
       "      <td>23</td>\n",
       "      <td>27</td>\n",
       "    </tr>\n",
       "    <tr>\n",
       "      <th>19</th>\n",
       "      <td>25</td>\n",
       "      <td>32</td>\n",
       "    </tr>\n",
       "    <tr>\n",
       "      <th>20</th>\n",
       "      <td>21</td>\n",
       "      <td>33</td>\n",
       "    </tr>\n",
       "    <tr>\n",
       "      <th>21</th>\n",
       "      <td>18</td>\n",
       "      <td>33</td>\n",
       "    </tr>\n",
       "    <tr>\n",
       "      <th>22</th>\n",
       "      <td>24</td>\n",
       "      <td>33</td>\n",
       "    </tr>\n",
       "    <tr>\n",
       "      <th>23</th>\n",
       "      <td>26</td>\n",
       "      <td>31</td>\n",
       "    </tr>\n",
       "    <tr>\n",
       "      <th>24</th>\n",
       "      <td>33</td>\n",
       "      <td>32</td>\n",
       "    </tr>\n",
       "    <tr>\n",
       "      <th>25</th>\n",
       "      <td>26</td>\n",
       "      <td>33</td>\n",
       "    </tr>\n",
       "    <tr>\n",
       "      <th>26</th>\n",
       "      <td>27</td>\n",
       "      <td>26</td>\n",
       "    </tr>\n",
       "    <tr>\n",
       "      <th>27</th>\n",
       "      <td>28</td>\n",
       "      <td>32</td>\n",
       "    </tr>\n",
       "    <tr>\n",
       "      <th>28</th>\n",
       "      <td>19</td>\n",
       "      <td>33</td>\n",
       "    </tr>\n",
       "    <tr>\n",
       "      <th>29</th>\n",
       "      <td>25</td>\n",
       "      <td>29</td>\n",
       "    </tr>\n",
       "  </tbody>\n",
       "</table>\n",
       "</div>"
      ],
      "text/plain": [
       "     A   B\n",
       "0   30  37\n",
       "1   27  39\n",
       "2   21  31\n",
       "3   27  31\n",
       "4   29  34\n",
       "5   30  38\n",
       "6   20  30\n",
       "7   20  36\n",
       "8   27  29\n",
       "9   32  28\n",
       "10  35  38\n",
       "11  22  28\n",
       "12  24  37\n",
       "13  23  37\n",
       "14  25  30\n",
       "15  27  32\n",
       "16  23  31\n",
       "17  27  31\n",
       "18  23  27\n",
       "19  25  32\n",
       "20  21  33\n",
       "21  18  33\n",
       "22  24  33\n",
       "23  26  31\n",
       "24  33  32\n",
       "25  26  33\n",
       "26  27  26\n",
       "27  28  32\n",
       "28  19  33\n",
       "29  25  29"
      ]
     },
     "execution_count": 69,
     "metadata": {},
     "output_type": "execute_result"
    }
   ],
   "source": [
    "import pandas as pd\n",
    "A = pd.DataFrame([30,27,21,27,29,30,20,20,27,32,35,22,24,23,25,27,23,27,23,\n",
    "        25,21,18,24,26,33,26,27,28,19,25])\n",
    "\n",
    "B = pd.DataFrame([37,39,31,31,34,38,30,36,29,28,38,28,37,37,30,32,31,31,27,\n",
    "        32,33,33,33,31,32,33,26,32,33,29])\n",
    "\n",
    "A_B=pd.concat([A,B],axis=1)\n",
    "A_B.columns=[\"A\",\"B\"]\n",
    "A_B"
   ]
  },
  {
   "cell_type": "code",
   "execution_count": 70,
   "id": "9523714a",
   "metadata": {},
   "outputs": [],
   "source": [
    "# Veri Tipi II"
   ]
  },
  {
   "cell_type": "code",
   "execution_count": 71,
   "id": "0c788450",
   "metadata": {},
   "outputs": [
    {
     "data": {
      "text/html": [
       "<div>\n",
       "<style scoped>\n",
       "    .dataframe tbody tr th:only-of-type {\n",
       "        vertical-align: middle;\n",
       "    }\n",
       "\n",
       "    .dataframe tbody tr th {\n",
       "        vertical-align: top;\n",
       "    }\n",
       "\n",
       "    .dataframe thead th {\n",
       "        text-align: right;\n",
       "    }\n",
       "</style>\n",
       "<table border=\"1\" class=\"dataframe\">\n",
       "  <thead>\n",
       "    <tr style=\"text-align: right;\">\n",
       "      <th></th>\n",
       "      <th>gelir</th>\n",
       "      <th>GRUP</th>\n",
       "    </tr>\n",
       "  </thead>\n",
       "  <tbody>\n",
       "    <tr>\n",
       "      <th>0</th>\n",
       "      <td>30</td>\n",
       "      <td>A</td>\n",
       "    </tr>\n",
       "    <tr>\n",
       "      <th>1</th>\n",
       "      <td>27</td>\n",
       "      <td>A</td>\n",
       "    </tr>\n",
       "    <tr>\n",
       "      <th>2</th>\n",
       "      <td>21</td>\n",
       "      <td>A</td>\n",
       "    </tr>\n",
       "    <tr>\n",
       "      <th>3</th>\n",
       "      <td>27</td>\n",
       "      <td>A</td>\n",
       "    </tr>\n",
       "    <tr>\n",
       "      <th>4</th>\n",
       "      <td>29</td>\n",
       "      <td>A</td>\n",
       "    </tr>\n",
       "    <tr>\n",
       "      <th>5</th>\n",
       "      <td>30</td>\n",
       "      <td>A</td>\n",
       "    </tr>\n",
       "    <tr>\n",
       "      <th>6</th>\n",
       "      <td>20</td>\n",
       "      <td>A</td>\n",
       "    </tr>\n",
       "    <tr>\n",
       "      <th>7</th>\n",
       "      <td>20</td>\n",
       "      <td>A</td>\n",
       "    </tr>\n",
       "    <tr>\n",
       "      <th>8</th>\n",
       "      <td>27</td>\n",
       "      <td>A</td>\n",
       "    </tr>\n",
       "    <tr>\n",
       "      <th>9</th>\n",
       "      <td>32</td>\n",
       "      <td>A</td>\n",
       "    </tr>\n",
       "    <tr>\n",
       "      <th>10</th>\n",
       "      <td>35</td>\n",
       "      <td>A</td>\n",
       "    </tr>\n",
       "    <tr>\n",
       "      <th>11</th>\n",
       "      <td>22</td>\n",
       "      <td>A</td>\n",
       "    </tr>\n",
       "    <tr>\n",
       "      <th>12</th>\n",
       "      <td>24</td>\n",
       "      <td>A</td>\n",
       "    </tr>\n",
       "    <tr>\n",
       "      <th>13</th>\n",
       "      <td>23</td>\n",
       "      <td>A</td>\n",
       "    </tr>\n",
       "    <tr>\n",
       "      <th>14</th>\n",
       "      <td>25</td>\n",
       "      <td>A</td>\n",
       "    </tr>\n",
       "    <tr>\n",
       "      <th>15</th>\n",
       "      <td>27</td>\n",
       "      <td>A</td>\n",
       "    </tr>\n",
       "    <tr>\n",
       "      <th>16</th>\n",
       "      <td>23</td>\n",
       "      <td>A</td>\n",
       "    </tr>\n",
       "    <tr>\n",
       "      <th>17</th>\n",
       "      <td>27</td>\n",
       "      <td>A</td>\n",
       "    </tr>\n",
       "    <tr>\n",
       "      <th>18</th>\n",
       "      <td>23</td>\n",
       "      <td>A</td>\n",
       "    </tr>\n",
       "    <tr>\n",
       "      <th>19</th>\n",
       "      <td>25</td>\n",
       "      <td>A</td>\n",
       "    </tr>\n",
       "    <tr>\n",
       "      <th>20</th>\n",
       "      <td>21</td>\n",
       "      <td>A</td>\n",
       "    </tr>\n",
       "    <tr>\n",
       "      <th>21</th>\n",
       "      <td>18</td>\n",
       "      <td>A</td>\n",
       "    </tr>\n",
       "    <tr>\n",
       "      <th>22</th>\n",
       "      <td>24</td>\n",
       "      <td>A</td>\n",
       "    </tr>\n",
       "    <tr>\n",
       "      <th>23</th>\n",
       "      <td>26</td>\n",
       "      <td>A</td>\n",
       "    </tr>\n",
       "    <tr>\n",
       "      <th>24</th>\n",
       "      <td>33</td>\n",
       "      <td>A</td>\n",
       "    </tr>\n",
       "    <tr>\n",
       "      <th>25</th>\n",
       "      <td>26</td>\n",
       "      <td>A</td>\n",
       "    </tr>\n",
       "    <tr>\n",
       "      <th>26</th>\n",
       "      <td>27</td>\n",
       "      <td>A</td>\n",
       "    </tr>\n",
       "    <tr>\n",
       "      <th>27</th>\n",
       "      <td>28</td>\n",
       "      <td>A</td>\n",
       "    </tr>\n",
       "    <tr>\n",
       "      <th>28</th>\n",
       "      <td>19</td>\n",
       "      <td>A</td>\n",
       "    </tr>\n",
       "    <tr>\n",
       "      <th>29</th>\n",
       "      <td>25</td>\n",
       "      <td>A</td>\n",
       "    </tr>\n",
       "    <tr>\n",
       "      <th>0</th>\n",
       "      <td>37</td>\n",
       "      <td>B</td>\n",
       "    </tr>\n",
       "    <tr>\n",
       "      <th>1</th>\n",
       "      <td>39</td>\n",
       "      <td>B</td>\n",
       "    </tr>\n",
       "    <tr>\n",
       "      <th>2</th>\n",
       "      <td>31</td>\n",
       "      <td>B</td>\n",
       "    </tr>\n",
       "    <tr>\n",
       "      <th>3</th>\n",
       "      <td>31</td>\n",
       "      <td>B</td>\n",
       "    </tr>\n",
       "    <tr>\n",
       "      <th>4</th>\n",
       "      <td>34</td>\n",
       "      <td>B</td>\n",
       "    </tr>\n",
       "    <tr>\n",
       "      <th>5</th>\n",
       "      <td>38</td>\n",
       "      <td>B</td>\n",
       "    </tr>\n",
       "    <tr>\n",
       "      <th>6</th>\n",
       "      <td>30</td>\n",
       "      <td>B</td>\n",
       "    </tr>\n",
       "    <tr>\n",
       "      <th>7</th>\n",
       "      <td>36</td>\n",
       "      <td>B</td>\n",
       "    </tr>\n",
       "    <tr>\n",
       "      <th>8</th>\n",
       "      <td>29</td>\n",
       "      <td>B</td>\n",
       "    </tr>\n",
       "    <tr>\n",
       "      <th>9</th>\n",
       "      <td>28</td>\n",
       "      <td>B</td>\n",
       "    </tr>\n",
       "    <tr>\n",
       "      <th>10</th>\n",
       "      <td>38</td>\n",
       "      <td>B</td>\n",
       "    </tr>\n",
       "    <tr>\n",
       "      <th>11</th>\n",
       "      <td>28</td>\n",
       "      <td>B</td>\n",
       "    </tr>\n",
       "    <tr>\n",
       "      <th>12</th>\n",
       "      <td>37</td>\n",
       "      <td>B</td>\n",
       "    </tr>\n",
       "    <tr>\n",
       "      <th>13</th>\n",
       "      <td>37</td>\n",
       "      <td>B</td>\n",
       "    </tr>\n",
       "    <tr>\n",
       "      <th>14</th>\n",
       "      <td>30</td>\n",
       "      <td>B</td>\n",
       "    </tr>\n",
       "    <tr>\n",
       "      <th>15</th>\n",
       "      <td>32</td>\n",
       "      <td>B</td>\n",
       "    </tr>\n",
       "    <tr>\n",
       "      <th>16</th>\n",
       "      <td>31</td>\n",
       "      <td>B</td>\n",
       "    </tr>\n",
       "    <tr>\n",
       "      <th>17</th>\n",
       "      <td>31</td>\n",
       "      <td>B</td>\n",
       "    </tr>\n",
       "    <tr>\n",
       "      <th>18</th>\n",
       "      <td>27</td>\n",
       "      <td>B</td>\n",
       "    </tr>\n",
       "    <tr>\n",
       "      <th>19</th>\n",
       "      <td>32</td>\n",
       "      <td>B</td>\n",
       "    </tr>\n",
       "    <tr>\n",
       "      <th>20</th>\n",
       "      <td>33</td>\n",
       "      <td>B</td>\n",
       "    </tr>\n",
       "    <tr>\n",
       "      <th>21</th>\n",
       "      <td>33</td>\n",
       "      <td>B</td>\n",
       "    </tr>\n",
       "    <tr>\n",
       "      <th>22</th>\n",
       "      <td>33</td>\n",
       "      <td>B</td>\n",
       "    </tr>\n",
       "    <tr>\n",
       "      <th>23</th>\n",
       "      <td>31</td>\n",
       "      <td>B</td>\n",
       "    </tr>\n",
       "    <tr>\n",
       "      <th>24</th>\n",
       "      <td>32</td>\n",
       "      <td>B</td>\n",
       "    </tr>\n",
       "    <tr>\n",
       "      <th>25</th>\n",
       "      <td>33</td>\n",
       "      <td>B</td>\n",
       "    </tr>\n",
       "    <tr>\n",
       "      <th>26</th>\n",
       "      <td>26</td>\n",
       "      <td>B</td>\n",
       "    </tr>\n",
       "    <tr>\n",
       "      <th>27</th>\n",
       "      <td>32</td>\n",
       "      <td>B</td>\n",
       "    </tr>\n",
       "    <tr>\n",
       "      <th>28</th>\n",
       "      <td>33</td>\n",
       "      <td>B</td>\n",
       "    </tr>\n",
       "    <tr>\n",
       "      <th>29</th>\n",
       "      <td>29</td>\n",
       "      <td>B</td>\n",
       "    </tr>\n",
       "  </tbody>\n",
       "</table>\n",
       "</div>"
      ],
      "text/plain": [
       "    gelir GRUP\n",
       "0      30    A\n",
       "1      27    A\n",
       "2      21    A\n",
       "3      27    A\n",
       "4      29    A\n",
       "5      30    A\n",
       "6      20    A\n",
       "7      20    A\n",
       "8      27    A\n",
       "9      32    A\n",
       "10     35    A\n",
       "11     22    A\n",
       "12     24    A\n",
       "13     23    A\n",
       "14     25    A\n",
       "15     27    A\n",
       "16     23    A\n",
       "17     27    A\n",
       "18     23    A\n",
       "19     25    A\n",
       "20     21    A\n",
       "21     18    A\n",
       "22     24    A\n",
       "23     26    A\n",
       "24     33    A\n",
       "25     26    A\n",
       "26     27    A\n",
       "27     28    A\n",
       "28     19    A\n",
       "29     25    A\n",
       "0      37    B\n",
       "1      39    B\n",
       "2      31    B\n",
       "3      31    B\n",
       "4      34    B\n",
       "5      38    B\n",
       "6      30    B\n",
       "7      36    B\n",
       "8      29    B\n",
       "9      28    B\n",
       "10     38    B\n",
       "11     28    B\n",
       "12     37    B\n",
       "13     37    B\n",
       "14     30    B\n",
       "15     32    B\n",
       "16     31    B\n",
       "17     31    B\n",
       "18     27    B\n",
       "19     32    B\n",
       "20     33    B\n",
       "21     33    B\n",
       "22     33    B\n",
       "23     31    B\n",
       "24     32    B\n",
       "25     33    B\n",
       "26     26    B\n",
       "27     32    B\n",
       "28     33    B\n",
       "29     29    B"
      ]
     },
     "execution_count": 71,
     "metadata": {},
     "output_type": "execute_result"
    }
   ],
   "source": [
    "import numpy as np\n",
    "A = pd.DataFrame([30,27,21,27,29,30,20,20,27,32,35,22,24,23,25,27,23,27,23,\n",
    "        25,21,18,24,26,33,26,27,28,19,25])\n",
    "\n",
    "B = pd.DataFrame([37,39,31,31,34,38,30,36,29,28,38,28,37,37,30,32,31,31,27,\n",
    "        32,33,33,33,31,32,33,26,32,33,29])\n",
    "\n",
    "#A ve A'nın grubu\n",
    "GRUP_A = np.arange(len(A))\n",
    "GRUP_A = pd.DataFrame(GRUP_A)\n",
    "GRUP_A[:] = \"A\"\n",
    "A = pd.concat([A, GRUP_A], axis = 1)\n",
    "\n",
    "#B ve B'nin Grubu\n",
    "GRUP_B = np.arange(len(B))\n",
    "GRUP_B = pd.DataFrame(GRUP_B)\n",
    "GRUP_B[:] = \"B\"\n",
    "B = pd.concat([B, GRUP_B], axis = 1)\n",
    "\n",
    "#Tum veri\n",
    "AB = pd.concat([A,B])\n",
    "AB.columns = [\"gelir\",\"GRUP\"]\n",
    "AB"
   ]
  },
  {
   "cell_type": "code",
   "execution_count": 72,
   "id": "a09b533b",
   "metadata": {},
   "outputs": [],
   "source": [
    "import seaborn as sns"
   ]
  },
  {
   "cell_type": "code",
   "execution_count": 73,
   "id": "71f5c79d",
   "metadata": {},
   "outputs": [
    {
     "data": {
      "text/plain": [
       "<AxesSubplot:xlabel='GRUP', ylabel='gelir'>"
      ]
     },
     "execution_count": 73,
     "metadata": {},
     "output_type": "execute_result"
    },
    {
     "data": {
      "image/png": "[encoded data removed]",
      "text/plain": [
       "<Figure size 432x288 with 1 Axes>"
      ]
     },
     "metadata": {
      "needs_background": "light"
     },
     "output_type": "display_data"
    }
   ],
   "source": [
    "sns.boxplot(x = \"GRUP\", y = \"gelir\",data=AB)"
   ]
  },
  {
   "cell_type": "markdown",
   "id": "ae121b1b",
   "metadata": {},
   "source": [
    "## Varsayim Kontrolleri "
   ]
  },
  {
   "cell_type": "markdown",
   "id": "4fd85a9a",
   "metadata": {},
   "source": [
    "### normallik varasyimi"
   ]
  },
  {
   "cell_type": "code",
   "execution_count": 74,
   "id": "35840034",
   "metadata": {},
   "outputs": [],
   "source": [
    "from scipy.stats import shapiro"
   ]
  },
  {
   "cell_type": "code",
   "execution_count": 75,
   "id": "866ac30a",
   "metadata": {},
   "outputs": [
    {
     "data": {
      "text/plain": [
       "ShapiroResult(statistic=0.9789242148399353, pvalue=0.7962799668312073)"
      ]
     },
     "execution_count": 75,
     "metadata": {},
     "output_type": "execute_result"
    }
   ],
   "source": [
    "shapiro(A_B.A)"
   ]
  },
  {
   "cell_type": "code",
   "execution_count": 76,
   "id": "b01bfc1a",
   "metadata": {},
   "outputs": [
    {
     "data": {
      "text/plain": [
       "ShapiroResult(statistic=0.9561261534690857, pvalue=0.2458445429801941)"
      ]
     },
     "execution_count": 76,
     "metadata": {},
     "output_type": "execute_result"
    }
   ],
   "source": [
    "shapiro(A_B.B) "
   ]
  },
  {
   "cell_type": "markdown",
   "id": "69bd02a7",
   "metadata": {},
   "source": [
    "  Normallik varsayimi saglanir P valueler 0.05 den kucuk olmadigindan H0 Reddedilemez"
   ]
  },
  {
   "cell_type": "markdown",
   "id": "4b6ad686",
   "metadata": {},
   "source": [
    "### varyans homojenligi varsayımı\n",
    "H0: Varyanslar Homojendir  \n",
    "H1: Varyanslar Homojen Değildir"
   ]
  },
  {
   "cell_type": "code",
   "execution_count": 77,
   "id": "c47b3c28",
   "metadata": {},
   "outputs": [
    {
     "data": {
      "text/plain": [
       "LeveneResult(statistic=1.1101802757158004, pvalue=0.2964124900636569)"
      ]
     },
     "execution_count": 77,
     "metadata": {},
     "output_type": "execute_result"
    }
   ],
   "source": [
    "stats.levene(A_B.A , A_B.B)"
   ]
  },
  {
   "cell_type": "markdown",
   "id": "8733c2ba",
   "metadata": {},
   "source": [
    "## Hipotez Testi"
   ]
  },
  {
   "cell_type": "code",
   "execution_count": 78,
   "id": "cc323f9b",
   "metadata": {},
   "outputs": [
    {
     "data": {
      "text/plain": [
       "Ttest_indResult(statistic=-7.028690967745927, pvalue=2.6233215605475075e-09)"
      ]
     },
     "execution_count": 78,
     "metadata": {},
     "output_type": "execute_result"
    }
   ],
   "source": [
    "stats.ttest_ind(A_B[\"A\"], A_B[\"B\"], equal_var = True) #equal_var = True : Varyans homojenligi saglaniyor "
   ]
  },
  {
   "cell_type": "markdown",
   "id": "d9c4667c",
   "metadata": {},
   "source": [
    "## Nonparametrik Bağımsız İki Örneklem Testi"
   ]
  },
  {
   "cell_type": "code",
   "execution_count": 79,
   "id": "e0abd416",
   "metadata": {},
   "outputs": [
    {
     "data": {
      "text/plain": [
       "MannwhitneyuResult(statistic=89.5, pvalue=4.778975189306267e-08)"
      ]
     },
     "execution_count": 79,
     "metadata": {},
     "output_type": "execute_result"
    }
   ],
   "source": [
    "stats.mannwhitneyu(A_B[\"A\"], A_B[\"B\"])"
   ]
  },
  {
   "cell_type": "code",
   "execution_count": 80,
   "id": "c8240cbe",
   "metadata": {},
   "outputs": [],
   "source": [
    "# Yukaridaki P Value degeri 0,000000047789752 e karsilik gelir."
   ]
  },
  {
   "cell_type": "markdown",
   "id": "7585b492",
   "metadata": {},
   "source": [
    "# Bağımlı İki Örneklem T Testi\n",
    "\n",
    "__Bagimli iki grup ortalamasi  arasinda karsilastirma yapilmak istenildiginde kullanilir__"
   ]
  },
  {
   "cell_type": "markdown",
   "id": "f1bda3c5",
   "metadata": {},
   "source": [
    "## __Is Uygulamasi : Sirket Ici Egitimin Performans etkisi Olcumu__\n",
    "\n",
    "Problem : Belirli ugraslar sonucu alinan bir egitimin katma deger saglayip saglamadigi olculmek isteniyor , \n",
    "\n",
    "Detaylar :\n",
    "- Bir departman bir konuda egitim talep ediyor\n",
    "- Gerekli / gereksiz degerlendirmeleri neticesinde egitim aliniyor.\n",
    "- Egitimden once ve sonra olucak sekilde gerekli olcumler yapiliyor\n",
    "- Egitim sonrasinda egitimin sagladigi katma deger olculmek isteniyor\n",
    "\n",
    "        H0 : µ1 = µ2\n",
    "        H1 : µ1 ≠ µ2"
   ]
  },
  {
   "cell_type": "code",
   "execution_count": 81,
   "id": "fc306b02",
   "metadata": {},
   "outputs": [],
   "source": [
    "oncesi = pd.DataFrame([123,119,119,116,123,123,121,120,117,118,121,121,123,119,\n",
    "            121,118,124,121,125,115,115,119,118,121,117,117,120,120,\n",
    "            121,117,118,117,123,118,124,121,115,118,125,115])\n",
    "\n",
    "sonrasi = pd.DataFrame([118,127,122,132,129,123,129,132,128,130,128,138,140,130,\n",
    "             134,134,124,140,134,129,129,138,134,124,122,126,133,127,\n",
    "             130,130,130,132,117,130,125,129,133,120,127,123])"
   ]
  },
  {
   "cell_type": "code",
   "execution_count": 82,
   "id": "030d7ef8",
   "metadata": {},
   "outputs": [
    {
     "name": "stdout",
     "output_type": "stream",
     "text": [
      "'AYRIK' Veri Seti: \n",
      "\n",
      "     ONCESI  SONRASI\n",
      "0     123      118\n",
      "1     119      127\n",
      "2     119      122\n",
      "3     116      132\n",
      "4     123      129 \n",
      "\n",
      "\n",
      "'BIRLIKTE' Veri Seti: \n",
      "\n",
      "    PERFORMANS ONCESI_SONRASI\n",
      "0         123         ONCESI\n",
      "1         119         ONCESI\n",
      "2         119         ONCESI\n",
      "3         116         ONCESI\n",
      "4         123         ONCESI \n",
      "\n"
     ]
    }
   ],
   "source": [
    "#BIRINCI VERI SETI\n",
    "AYRIK = pd.concat([oncesi, sonrasi], axis = 1)\n",
    "AYRIK.columns = [\"ONCESI\",\"SONRASI\"]\n",
    "print(\"'AYRIK' Veri Seti: \\n\\n \", AYRIK.head(), \"\\n\\n\")\n",
    "\n",
    "\n",
    "#IKINCI VERI SETI\n",
    "#ONCESI FLAG/TAG'INI OLUSTURMA\n",
    "GRUP_ONCESI = np.arange(len(oncesi))\n",
    "GRUP_ONCESI = pd.DataFrame(GRUP_ONCESI)\n",
    "GRUP_ONCESI[:] = \"ONCESI\"\n",
    "#FLAG VE ONCESI DEGERLERINI BIR ARAYA GETIRME\n",
    "A = pd.concat([oncesi, GRUP_ONCESI], axis = 1)\n",
    "#SONRASI FLAG/TAG'INI OLUSTURMA\n",
    "GRUP_SONRASI = np.arange(len(sonrasi))\n",
    "GRUP_SONRASI = pd.DataFrame(GRUP_SONRASI)\n",
    "GRUP_SONRASI[:] = \"SONRASI\"\n",
    "\n",
    "#FLAG VE SONRASI DEGERLERINI BIR ARAYA GETIRME\n",
    "B = pd.concat([sonrasi, GRUP_SONRASI], axis = 1)\n",
    "\n",
    "#TUM VERIYI BIR ARAYA GETIRME\n",
    "BIRLIKTE = pd.concat([A,B])\n",
    "BIRLIKTE\n",
    "\n",
    "#ISIMLENDIRME\n",
    "BIRLIKTE.columns = [\"PERFORMANS\",\"ONCESI_SONRASI\"]\n",
    "print(\"'BIRLIKTE' Veri Seti: \\n\\n\", BIRLIKTE.head(), \"\\n\")"
   ]
  },
  {
   "cell_type": "code",
   "execution_count": 83,
   "id": "f2bc3f12",
   "metadata": {},
   "outputs": [
    {
     "data": {
      "image/png": "[encoded data removed]",
      "text/plain": [
       "<Figure size 432x288 with 1 Axes>"
      ]
     },
     "metadata": {
      "needs_background": "light"
     },
     "output_type": "display_data"
    }
   ],
   "source": [
    "sns.boxplot(x=\"ONCESI_SONRASI\",y=\"PERFORMANS\",data=BIRLIKTE);"
   ]
  },
  {
   "cell_type": "markdown",
   "id": "15133359",
   "metadata": {},
   "source": [
    "## Varsayım Kontrolleri "
   ]
  },
  {
   "cell_type": "code",
   "execution_count": 84,
   "id": "ab09766f",
   "metadata": {},
   "outputs": [],
   "source": [
    "from scipy.stats import shapiro"
   ]
  },
  {
   "cell_type": "code",
   "execution_count": 85,
   "id": "df487991",
   "metadata": {},
   "outputs": [
    {
     "data": {
      "text/plain": [
       "ShapiroResult(statistic=0.9543654918670654, pvalue=0.10722342133522034)"
      ]
     },
     "execution_count": 85,
     "metadata": {},
     "output_type": "execute_result"
    }
   ],
   "source": [
    "shapiro(AYRIK.ONCESI)"
   ]
  },
  {
   "cell_type": "code",
   "execution_count": 86,
   "id": "ce6e57ae",
   "metadata": {},
   "outputs": [
    {
     "data": {
      "text/plain": [
       "ShapiroResult(statistic=0.9780087471008301, pvalue=0.6159457564353943)"
      ]
     },
     "execution_count": 86,
     "metadata": {},
     "output_type": "execute_result"
    }
   ],
   "source": [
    "shapiro(AYRIK.SONRASI)"
   ]
  },
  {
   "cell_type": "code",
   "execution_count": 87,
   "id": "ec11110b",
   "metadata": {},
   "outputs": [],
   "source": [
    "# H0 Reddedilemez . Normal Dagilmaktadir"
   ]
  },
  {
   "cell_type": "code",
   "execution_count": 88,
   "id": "f491e7fd",
   "metadata": {},
   "outputs": [
    {
     "data": {
      "text/plain": [
       "LeveneResult(statistic=8.31303288672351, pvalue=0.0050844511807370246)"
      ]
     },
     "execution_count": 88,
     "metadata": {},
     "output_type": "execute_result"
    }
   ],
   "source": [
    "import scipy.stats as stats\n",
    "stats.levene(AYRIK.ONCESI , AYRIK.SONRASI)"
   ]
  },
  {
   "cell_type": "markdown",
   "id": "01a830ae",
   "metadata": {},
   "source": [
    "## Hipotez Testi"
   ]
  },
  {
   "cell_type": "code",
   "execution_count": 89,
   "id": "d65c2731",
   "metadata": {},
   "outputs": [
    {
     "data": {
      "text/plain": [
       "Ttest_relResult(statistic=-9.281533480429937, pvalue=2.0235251764440722e-11)"
      ]
     },
     "execution_count": 89,
     "metadata": {},
     "output_type": "execute_result"
    }
   ],
   "source": [
    "stats.ttest_rel(AYRIK.ONCESI, AYRIK.SONRASI)"
   ]
  },
  {
   "cell_type": "markdown",
   "id": "2b61cd0e",
   "metadata": {},
   "source": [
    "H0 Diyordiki µ oncesi ve µsonrasi birbirine esittir , yani oncesi ve sonrasi arasinda istatiki anlamli bir fark yoktur..\n",
    "plav 0.05 den kucuk oldugu icin H0 reddedilir.\n",
    "\n",
    "Attigimiz tas urkuttugumuz kurbaya degmistir.  \n",
    "Yapilan egitim calisanlar arasinda bilimsel bir fark yarattigi gozlemlenmistir."
   ]
  },
  {
   "cell_type": "markdown",
   "id": "8d75f9a9",
   "metadata": {},
   "source": [
    "## Nonparametrik Bağımlı İki Örneklem Testi\n",
    "\n",
    "Varyans Homojenligi ve Normal Dagilim Varsayimlarida saglanmassa kullanilabilir."
   ]
  },
  {
   "cell_type": "code",
   "execution_count": 90,
   "id": "3fca5a0c",
   "metadata": {},
   "outputs": [
    {
     "data": {
      "text/plain": [
       "WilcoxonResult(statistic=15.0, pvalue=2.491492033374464e-07)"
      ]
     },
     "execution_count": 90,
     "metadata": {},
     "output_type": "execute_result"
    }
   ],
   "source": [
    "stats.wilcoxon(AYRIK.ONCESI , AYRIK.SONRASI)"
   ]
  },
  {
   "cell_type": "code",
   "execution_count": 91,
   "id": "f040000b",
   "metadata": {},
   "outputs": [],
   "source": [
    "test_istatisligi,pval=stats.wilcoxon(AYRIK.ONCESI , AYRIK.SONRASI)"
   ]
  },
  {
   "cell_type": "code",
   "execution_count": 92,
   "id": "1dd2eb43",
   "metadata": {},
   "outputs": [
    {
     "name": "stdout",
     "output_type": "stream",
     "text": [
      "p-value degeri = 0.00000025 \n"
     ]
    }
   ],
   "source": [
    "print(\"p-value degeri = %.8f \" % (pval))"
   ]
  },
  {
   "cell_type": "markdown",
   "id": "f920c4d8",
   "metadata": {},
   "source": [
    "## İki Örneklem Oran Testi"
   ]
  },
  {
   "cell_type": "markdown",
   "id": "d802661e",
   "metadata": {},
   "source": [
    "## __Is Uygulamasi : Kullanici Arayuzu Deneyi (AB Testi)__\n",
    "    Hº : P1 ≤ P2\n",
    "    H1 : P1 > P2\n",
    "\n",
    "Yesil Buton   : 1000 Goruntulenme 300 tiklanma  \n",
    "Kirmizi Buton : 1100 Goruntulenme 250 tiklanma\n",
    "\n"
   ]
  },
  {
   "cell_type": "code",
   "execution_count": 93,
   "id": "a3531f6f",
   "metadata": {},
   "outputs": [],
   "source": [
    "from statsmodels.stats.proportion import proportions_ztest"
   ]
  },
  {
   "cell_type": "code",
   "execution_count": 94,
   "id": "fd1f344e",
   "metadata": {},
   "outputs": [],
   "source": [
    "import numpy as np\n",
    "basari_sayisi=np.array([300,250])\n",
    "gozlem_sayisi=np.array([1000,1100])"
   ]
  },
  {
   "cell_type": "code",
   "execution_count": 95,
   "id": "d0c2d0a4",
   "metadata": {},
   "outputs": [
    {
     "data": {
      "text/plain": [
       "(3.7857863233209255, 0.0001532232957772221)"
      ]
     },
     "execution_count": 95,
     "metadata": {},
     "output_type": "execute_result"
    }
   ],
   "source": [
    "proportions_ztest(count=basari_sayisi,nobs=gozlem_sayisi)"
   ]
  },
  {
   "cell_type": "code",
   "execution_count": 96,
   "id": "d894fb2d",
   "metadata": {},
   "outputs": [],
   "source": [
    "# Hº Reddedilir."
   ]
  },
  {
   "cell_type": "markdown",
   "id": "cf5a35ee",
   "metadata": {},
   "source": [
    "# Varyans Analizi\n",
    "H0: µ1 = µ2 = µ3 (grup ortalamalari arasinda istatiksel olarak anlamli farklilik yoktur)   \n",
    "H1: Fark vardir."
   ]
  },
  {
   "cell_type": "markdown",
   "id": "a7acd71d",
   "metadata": {},
   "source": [
    "## Varyans Analizi Varsayimlar\n",
    "\n",
    "- Gozlemlerin birbirinden bagimsiz olmasi (gruplarin)\n",
    "- Normal Dagilim\n",
    "- Varyans Homojenligi"
   ]
  },
  {
   "cell_type": "markdown",
   "id": "79f855f2",
   "metadata": {},
   "source": [
    "## __Is Uygulamasi : Anasayfa Icerik Stratejisi Belirleme__\n",
    "\n",
    "Problem : Anasayfada Gecirilen Sure Arttirmak Isteniyor\n",
    "\n",
    "Detaylar :\n",
    "- Bir Web Sitesi icin basari kriteri :ortalama ziyaret suresi , hemen cikis orani vb.\n",
    "- Uzun zaman geciren kullanicilarin reklamlara daha fazla tikladigi ve markaya olan bagliliklari arttigi biliniyor\n",
    "- Buna yonelik olarak benzer haberler farkli resimler ya da farkli formatlarda hazirlanarak olusturulan test gruplarina gosteriliyor.\n",
    "- A : Dogal Sekilde , B : Yonlendirici , C : Ilgi Cekici"
   ]
  },
  {
   "cell_type": "code",
   "execution_count": 97,
   "id": "9fed4253",
   "metadata": {},
   "outputs": [
    {
     "data": {
      "text/html": [
       "<div>\n",
       "<style scoped>\n",
       "    .dataframe tbody tr th:only-of-type {\n",
       "        vertical-align: middle;\n",
       "    }\n",
       "\n",
       "    .dataframe tbody tr th {\n",
       "        vertical-align: top;\n",
       "    }\n",
       "\n",
       "    .dataframe thead th {\n",
       "        text-align: right;\n",
       "    }\n",
       "</style>\n",
       "<table border=\"1\" class=\"dataframe\">\n",
       "  <thead>\n",
       "    <tr style=\"text-align: right;\">\n",
       "      <th></th>\n",
       "      <th>GRUP_A</th>\n",
       "      <th>GRUP_B</th>\n",
       "      <th>GRUP_C</th>\n",
       "    </tr>\n",
       "  </thead>\n",
       "  <tbody>\n",
       "    <tr>\n",
       "      <th>0</th>\n",
       "      <td>28</td>\n",
       "      <td>31</td>\n",
       "      <td>40</td>\n",
       "    </tr>\n",
       "    <tr>\n",
       "      <th>1</th>\n",
       "      <td>33</td>\n",
       "      <td>32</td>\n",
       "      <td>33</td>\n",
       "    </tr>\n",
       "    <tr>\n",
       "      <th>2</th>\n",
       "      <td>30</td>\n",
       "      <td>30</td>\n",
       "      <td>38</td>\n",
       "    </tr>\n",
       "    <tr>\n",
       "      <th>3</th>\n",
       "      <td>29</td>\n",
       "      <td>30</td>\n",
       "      <td>41</td>\n",
       "    </tr>\n",
       "    <tr>\n",
       "      <th>4</th>\n",
       "      <td>28</td>\n",
       "      <td>33</td>\n",
       "      <td>42</td>\n",
       "    </tr>\n",
       "  </tbody>\n",
       "</table>\n",
       "</div>"
      ],
      "text/plain": [
       "   GRUP_A  GRUP_B  GRUP_C\n",
       "0      28      31      40\n",
       "1      33      32      33\n",
       "2      30      30      38\n",
       "3      29      30      41\n",
       "4      28      33      42"
      ]
     },
     "execution_count": 97,
     "metadata": {},
     "output_type": "execute_result"
    }
   ],
   "source": [
    "A = pd.DataFrame([28,33,30,29,28,29,27,31,30,32,28,33,25,29,27,31,31,30,31,34,30,32,31,34,28,32,31,28,33,29])\n",
    "\n",
    "B = pd.DataFrame([31,32,30,30,33,32,34,27,36,30,31,30,38,29,30,34,34,31,35,35,33,30,28,29,26,37,31,28,34,33])\n",
    "\n",
    "C = pd.DataFrame([40,33,38,41,42,43,38,35,39,39,36,34,35,40,38,36,39,36,33,35,38,35,40,40,39,38,38,43,40,42])\n",
    "\n",
    "dfs = [A, B, C]\n",
    "\n",
    "ABC = pd.concat(dfs, axis = 1)\n",
    "ABC.columns = [\"GRUP_A\",\"GRUP_B\",\"GRUP_C\"]\n",
    "ABC.head()"
   ]
  },
  {
   "cell_type": "markdown",
   "id": "10e78cbb",
   "metadata": {},
   "source": [
    "## Varsayım Kontrolü"
   ]
  },
  {
   "cell_type": "code",
   "execution_count": 98,
   "id": "9ffe3610",
   "metadata": {},
   "outputs": [],
   "source": [
    "# normallik varasyimi\n",
    "from scipy.stats import shapiro"
   ]
  },
  {
   "cell_type": "code",
   "execution_count": 99,
   "id": "c51f5d8a",
   "metadata": {},
   "outputs": [
    {
     "data": {
      "text/plain": [
       "ShapiroResult(statistic=0.9697431921958923, pvalue=0.5321715474128723)"
      ]
     },
     "execution_count": 99,
     "metadata": {},
     "output_type": "execute_result"
    }
   ],
   "source": [
    "shapiro(ABC.GRUP_A)"
   ]
  },
  {
   "cell_type": "code",
   "execution_count": 100,
   "id": "e155691b",
   "metadata": {},
   "outputs": [
    {
     "data": {
      "text/plain": [
       "ShapiroResult(statistic=0.9789854884147644, pvalue=0.7979801297187805)"
      ]
     },
     "execution_count": 100,
     "metadata": {},
     "output_type": "execute_result"
    }
   ],
   "source": [
    "shapiro(ABC.GRUP_B)"
   ]
  },
  {
   "cell_type": "code",
   "execution_count": 101,
   "id": "afa7f951",
   "metadata": {},
   "outputs": [
    {
     "data": {
      "text/plain": [
       "ShapiroResult(statistic=0.9579201340675354, pvalue=0.273820161819458)"
      ]
     },
     "execution_count": 101,
     "metadata": {},
     "output_type": "execute_result"
    }
   ],
   "source": [
    "shapiro(ABC.GRUP_C)"
   ]
  },
  {
   "cell_type": "code",
   "execution_count": 102,
   "id": "ce2d05c5",
   "metadata": {},
   "outputs": [],
   "source": [
    "# H0 Reddedilemez normallik varsayimi saglanmaktadir. "
   ]
  },
  {
   "cell_type": "code",
   "execution_count": 103,
   "id": "bcda8058",
   "metadata": {},
   "outputs": [
    {
     "data": {
      "text/plain": [
       "LeveneResult(statistic=1.0267403645055275, pvalue=0.36247110117417064)"
      ]
     },
     "execution_count": 103,
     "metadata": {},
     "output_type": "execute_result"
    }
   ],
   "source": [
    "# Homojenlik testi\n",
    "stats.levene(ABC.GRUP_A , ABC.GRUP_B , ABC.GRUP_C)"
   ]
  },
  {
   "cell_type": "code",
   "execution_count": 104,
   "id": "67c4a67d",
   "metadata": {},
   "outputs": [],
   "source": [
    "# Varyans  Homojenligi varsayimida saglanmaktadir. Hipotez testine gecilebilir."
   ]
  },
  {
   "cell_type": "markdown",
   "id": "914e8a8e",
   "metadata": {},
   "source": [
    "## Hipotez Testi"
   ]
  },
  {
   "cell_type": "code",
   "execution_count": 105,
   "id": "425858d9",
   "metadata": {},
   "outputs": [],
   "source": [
    "from scipy.stats import f_oneway"
   ]
  },
  {
   "cell_type": "code",
   "execution_count": 106,
   "id": "8583dbe1",
   "metadata": {},
   "outputs": [
    {
     "data": {
      "text/plain": [
       "F_onewayResult(statistic=74.69278140730431, pvalue=1.3079050746811477e-19)"
      ]
     },
     "execution_count": 106,
     "metadata": {},
     "output_type": "execute_result"
    }
   ],
   "source": [
    "f_oneway(ABC.GRUP_A , ABC.GRUP_B , ABC.GRUP_C)"
   ]
  },
  {
   "cell_type": "markdown",
   "id": "dd0a73f2",
   "metadata": {},
   "source": [
    "Alphaya gore pval Oldukca kucuk olcugu icin H0 Reddedilir , Istatistiksel olarak anlamli bir fark. vardir."
   ]
  },
  {
   "cell_type": "code",
   "execution_count": 107,
   "id": "4f43d5ef",
   "metadata": {},
   "outputs": [
    {
     "data": {
      "text/html": [
       "<div>\n",
       "<style scoped>\n",
       "    .dataframe tbody tr th:only-of-type {\n",
       "        vertical-align: middle;\n",
       "    }\n",
       "\n",
       "    .dataframe tbody tr th {\n",
       "        vertical-align: top;\n",
       "    }\n",
       "\n",
       "    .dataframe thead th {\n",
       "        text-align: right;\n",
       "    }\n",
       "</style>\n",
       "<table border=\"1\" class=\"dataframe\">\n",
       "  <thead>\n",
       "    <tr style=\"text-align: right;\">\n",
       "      <th></th>\n",
       "      <th>count</th>\n",
       "      <th>mean</th>\n",
       "      <th>std</th>\n",
       "      <th>min</th>\n",
       "      <th>25%</th>\n",
       "      <th>50%</th>\n",
       "      <th>75%</th>\n",
       "      <th>max</th>\n",
       "    </tr>\n",
       "  </thead>\n",
       "  <tbody>\n",
       "    <tr>\n",
       "      <th>GRUP_A</th>\n",
       "      <td>30.0</td>\n",
       "      <td>30.133333</td>\n",
       "      <td>2.224214</td>\n",
       "      <td>25.0</td>\n",
       "      <td>28.25</td>\n",
       "      <td>30.0</td>\n",
       "      <td>31.75</td>\n",
       "      <td>34.0</td>\n",
       "    </tr>\n",
       "    <tr>\n",
       "      <th>GRUP_B</th>\n",
       "      <td>30.0</td>\n",
       "      <td>31.700000</td>\n",
       "      <td>2.937862</td>\n",
       "      <td>26.0</td>\n",
       "      <td>30.00</td>\n",
       "      <td>31.0</td>\n",
       "      <td>34.00</td>\n",
       "      <td>38.0</td>\n",
       "    </tr>\n",
       "    <tr>\n",
       "      <th>GRUP_C</th>\n",
       "      <td>30.0</td>\n",
       "      <td>38.100000</td>\n",
       "      <td>2.808239</td>\n",
       "      <td>33.0</td>\n",
       "      <td>36.00</td>\n",
       "      <td>38.0</td>\n",
       "      <td>40.00</td>\n",
       "      <td>43.0</td>\n",
       "    </tr>\n",
       "  </tbody>\n",
       "</table>\n",
       "</div>"
      ],
      "text/plain": [
       "        count       mean       std   min    25%   50%    75%   max\n",
       "GRUP_A   30.0  30.133333  2.224214  25.0  28.25  30.0  31.75  34.0\n",
       "GRUP_B   30.0  31.700000  2.937862  26.0  30.00  31.0  34.00  38.0\n",
       "GRUP_C   30.0  38.100000  2.808239  33.0  36.00  38.0  40.00  43.0"
      ]
     },
     "execution_count": 107,
     "metadata": {},
     "output_type": "execute_result"
    }
   ],
   "source": [
    "ABC.describe().T"
   ]
  },
  {
   "cell_type": "markdown",
   "id": "848660cc",
   "metadata": {},
   "source": [
    "## Non-Parametrik Hipotez Testi"
   ]
  },
  {
   "cell_type": "code",
   "execution_count": 108,
   "id": "cdeac29f",
   "metadata": {},
   "outputs": [],
   "source": [
    "from scipy.stats import kruskal"
   ]
  },
  {
   "cell_type": "code",
   "execution_count": 109,
   "id": "4438105e",
   "metadata": {},
   "outputs": [
    {
     "data": {
      "text/plain": [
       "KruskalResult(statistic=54.19819735523783, pvalue=1.7022015426175926e-12)"
      ]
     },
     "execution_count": 109,
     "metadata": {},
     "output_type": "execute_result"
    }
   ],
   "source": [
    "kruskal(ABC.GRUP_A , ABC.GRUP_B , ABC.GRUP_C)"
   ]
  },
  {
   "cell_type": "markdown",
   "id": "822765ad",
   "metadata": {},
   "source": [
    " Buradanda Yine H0 Reddedilir diyebiliriz."
   ]
  },
  {
   "cell_type": "markdown",
   "id": "0cbc1958",
   "metadata": {},
   "source": [
    "## Kolerasyon Analizi\n",
    "__Degiskenler arasinaki iliski , bu iliskinin yonu ve siddeti , ile ilgili bilgiler saglayan istatiksel bir yontemdir__\n",
    "        ![Kolerasyon](Kolerasyon.png)\n",
    "        \n",
    "- Negatif Kolerasyon : Arac KM Arrikca Fiyat Azalmakta olmasi .\n",
    "\n",
    "        H0 : p = 0   \n",
    "        H1 : p ≠ 0 \n",
    "        \n",
    "__KOLERASYON ANALIZI VARSAYIMLAR__\n",
    "\n",
    "- Iki degisken icinde normallik varsayimi\n",
    "- Varsayim Saglaniyorsa Pearson Kolerasyon Katsayisi\n",
    "- Varsayim saglanmiyorsa Spearman Kolerasyon Katsayisi"
   ]
  },
  {
   "cell_type": "markdown",
   "id": "a63f031a",
   "metadata": {},
   "source": [
    "## __Is Uygulamasi : Odenen Hesapla ile Basis Arasinda Kolerasyon Var mi ?__\n",
    "        H0 : p = 0\n",
    "        H1 : p ≠ 0\n",
    "        \n",
    "Veri Seti Hikayesi\n",
    "total_bill: yemeğin toplam fiyatı (bahşiş ve vergi dahil)\n",
    "\n",
    "tip: bahşiş\n",
    "\n",
    "sex: ücreti ödeyen kişinin cinsiyeti (0=male, 1=female)\n",
    "\n",
    "smoker: grupta sigara içen var mı? (0=No, 1=Yes)\n",
    "\n",
    "day: gün (3=Thur, 4=Fri, 5=Sat, 6=Sun)\n",
    "\n",
    "time: ne zaman? (0=Day, 1=Night)\n",
    "\n",
    "size: grupta kaç kişi var?"
   ]
  },
  {
   "cell_type": "code",
   "execution_count": 110,
   "id": "c4e0fae8",
   "metadata": {},
   "outputs": [
    {
     "data": {
      "text/html": [
       "<div>\n",
       "<style scoped>\n",
       "    .dataframe tbody tr th:only-of-type {\n",
       "        vertical-align: middle;\n",
       "    }\n",
       "\n",
       "    .dataframe tbody tr th {\n",
       "        vertical-align: top;\n",
       "    }\n",
       "\n",
       "    .dataframe thead th {\n",
       "        text-align: right;\n",
       "    }\n",
       "</style>\n",
       "<table border=\"1\" class=\"dataframe\">\n",
       "  <thead>\n",
       "    <tr style=\"text-align: right;\">\n",
       "      <th></th>\n",
       "      <th>total_bill</th>\n",
       "      <th>tip</th>\n",
       "      <th>sex</th>\n",
       "      <th>smoker</th>\n",
       "      <th>day</th>\n",
       "      <th>time</th>\n",
       "      <th>size</th>\n",
       "    </tr>\n",
       "  </thead>\n",
       "  <tbody>\n",
       "    <tr>\n",
       "      <th>0</th>\n",
       "      <td>16.99</td>\n",
       "      <td>1.01</td>\n",
       "      <td>Female</td>\n",
       "      <td>No</td>\n",
       "      <td>Sun</td>\n",
       "      <td>Dinner</td>\n",
       "      <td>2</td>\n",
       "    </tr>\n",
       "    <tr>\n",
       "      <th>1</th>\n",
       "      <td>10.34</td>\n",
       "      <td>1.66</td>\n",
       "      <td>Male</td>\n",
       "      <td>No</td>\n",
       "      <td>Sun</td>\n",
       "      <td>Dinner</td>\n",
       "      <td>3</td>\n",
       "    </tr>\n",
       "    <tr>\n",
       "      <th>2</th>\n",
       "      <td>21.01</td>\n",
       "      <td>3.50</td>\n",
       "      <td>Male</td>\n",
       "      <td>No</td>\n",
       "      <td>Sun</td>\n",
       "      <td>Dinner</td>\n",
       "      <td>3</td>\n",
       "    </tr>\n",
       "    <tr>\n",
       "      <th>3</th>\n",
       "      <td>23.68</td>\n",
       "      <td>3.31</td>\n",
       "      <td>Male</td>\n",
       "      <td>No</td>\n",
       "      <td>Sun</td>\n",
       "      <td>Dinner</td>\n",
       "      <td>2</td>\n",
       "    </tr>\n",
       "    <tr>\n",
       "      <th>4</th>\n",
       "      <td>24.59</td>\n",
       "      <td>3.61</td>\n",
       "      <td>Female</td>\n",
       "      <td>No</td>\n",
       "      <td>Sun</td>\n",
       "      <td>Dinner</td>\n",
       "      <td>4</td>\n",
       "    </tr>\n",
       "  </tbody>\n",
       "</table>\n",
       "</div>"
      ],
      "text/plain": [
       "   total_bill   tip     sex smoker  day    time  size\n",
       "0       16.99  1.01  Female     No  Sun  Dinner     2\n",
       "1       10.34  1.66    Male     No  Sun  Dinner     3\n",
       "2       21.01  3.50    Male     No  Sun  Dinner     3\n",
       "3       23.68  3.31    Male     No  Sun  Dinner     2\n",
       "4       24.59  3.61  Female     No  Sun  Dinner     4"
      ]
     },
     "execution_count": 110,
     "metadata": {},
     "output_type": "execute_result"
    }
   ],
   "source": [
    "import seaborn as sns\n",
    "tips = sns.load_dataset(\"tips\")\n",
    "df = tips.copy()\n",
    "df.head()"
   ]
  },
  {
   "cell_type": "code",
   "execution_count": 111,
   "id": "f28c699a",
   "metadata": {},
   "outputs": [],
   "source": [
    "# Toplam Hesap Verilerinde bahsis dahil bu kolerasyonu yaniltabilir o yuzden duzenlenmesi gerekir."
   ]
  },
  {
   "cell_type": "code",
   "execution_count": 112,
   "id": "63754cee",
   "metadata": {},
   "outputs": [],
   "source": [
    "df.total_bill=df.total_bill - df.tip"
   ]
  },
  {
   "cell_type": "code",
   "execution_count": 113,
   "id": "251a0e72",
   "metadata": {},
   "outputs": [
    {
     "data": {
      "text/html": [
       "<div>\n",
       "<style scoped>\n",
       "    .dataframe tbody tr th:only-of-type {\n",
       "        vertical-align: middle;\n",
       "    }\n",
       "\n",
       "    .dataframe tbody tr th {\n",
       "        vertical-align: top;\n",
       "    }\n",
       "\n",
       "    .dataframe thead th {\n",
       "        text-align: right;\n",
       "    }\n",
       "</style>\n",
       "<table border=\"1\" class=\"dataframe\">\n",
       "  <thead>\n",
       "    <tr style=\"text-align: right;\">\n",
       "      <th></th>\n",
       "      <th>total_bill</th>\n",
       "      <th>tip</th>\n",
       "      <th>sex</th>\n",
       "      <th>smoker</th>\n",
       "      <th>day</th>\n",
       "      <th>time</th>\n",
       "      <th>size</th>\n",
       "    </tr>\n",
       "  </thead>\n",
       "  <tbody>\n",
       "    <tr>\n",
       "      <th>0</th>\n",
       "      <td>15.98</td>\n",
       "      <td>1.01</td>\n",
       "      <td>Female</td>\n",
       "      <td>No</td>\n",
       "      <td>Sun</td>\n",
       "      <td>Dinner</td>\n",
       "      <td>2</td>\n",
       "    </tr>\n",
       "    <tr>\n",
       "      <th>1</th>\n",
       "      <td>8.68</td>\n",
       "      <td>1.66</td>\n",
       "      <td>Male</td>\n",
       "      <td>No</td>\n",
       "      <td>Sun</td>\n",
       "      <td>Dinner</td>\n",
       "      <td>3</td>\n",
       "    </tr>\n",
       "    <tr>\n",
       "      <th>2</th>\n",
       "      <td>17.51</td>\n",
       "      <td>3.50</td>\n",
       "      <td>Male</td>\n",
       "      <td>No</td>\n",
       "      <td>Sun</td>\n",
       "      <td>Dinner</td>\n",
       "      <td>3</td>\n",
       "    </tr>\n",
       "    <tr>\n",
       "      <th>3</th>\n",
       "      <td>20.37</td>\n",
       "      <td>3.31</td>\n",
       "      <td>Male</td>\n",
       "      <td>No</td>\n",
       "      <td>Sun</td>\n",
       "      <td>Dinner</td>\n",
       "      <td>2</td>\n",
       "    </tr>\n",
       "    <tr>\n",
       "      <th>4</th>\n",
       "      <td>20.98</td>\n",
       "      <td>3.61</td>\n",
       "      <td>Female</td>\n",
       "      <td>No</td>\n",
       "      <td>Sun</td>\n",
       "      <td>Dinner</td>\n",
       "      <td>4</td>\n",
       "    </tr>\n",
       "  </tbody>\n",
       "</table>\n",
       "</div>"
      ],
      "text/plain": [
       "   total_bill   tip     sex smoker  day    time  size\n",
       "0       15.98  1.01  Female     No  Sun  Dinner     2\n",
       "1        8.68  1.66    Male     No  Sun  Dinner     3\n",
       "2       17.51  3.50    Male     No  Sun  Dinner     3\n",
       "3       20.37  3.31    Male     No  Sun  Dinner     2\n",
       "4       20.98  3.61  Female     No  Sun  Dinner     4"
      ]
     },
     "execution_count": 113,
     "metadata": {},
     "output_type": "execute_result"
    }
   ],
   "source": [
    "df.head()"
   ]
  },
  {
   "cell_type": "code",
   "execution_count": 115,
   "id": "229c6885",
   "metadata": {},
   "outputs": [
    {
     "data": {
      "image/png": "[encoded data removed]",
      "text/plain": [
       "<Figure size 432x288 with 1 Axes>"
      ]
     },
     "metadata": {
      "needs_background": "light"
     },
     "output_type": "display_data"
    }
   ],
   "source": [
    "df.plot.scatter(\"tip\",\"total_bill\");"
   ]
  },
  {
   "cell_type": "markdown",
   "id": "17b02e87",
   "metadata": {},
   "source": [
    "## Varysayim Kontrolu"
   ]
  },
  {
   "cell_type": "code",
   "execution_count": 116,
   "id": "d29155d0",
   "metadata": {},
   "outputs": [],
   "source": [
    "from scipy.stats import shapiro"
   ]
  },
  {
   "cell_type": "code",
   "execution_count": 118,
   "id": "458414e0",
   "metadata": {},
   "outputs": [
    {
     "data": {
      "text/plain": [
       "ShapiroResult(statistic=0.897811233997345, pvalue=8.20057563521992e-12)"
      ]
     },
     "execution_count": 118,
     "metadata": {},
     "output_type": "execute_result"
    }
   ],
   "source": [
    "shapiro(df.tip)"
   ]
  },
  {
   "cell_type": "code",
   "execution_count": 121,
   "id": "c2e0658b",
   "metadata": {},
   "outputs": [
    {
     "data": {
      "text/plain": [
       "ShapiroResult(statistic=0.9135652184486389, pvalue=1.1060377613780759e-10)"
      ]
     },
     "execution_count": 121,
     "metadata": {},
     "output_type": "execute_result"
    }
   ],
   "source": [
    "shapiro(df.total_bill)\n",
    "# Normallik Varsayimi Saglanmamistir. Saglaniyormus gibi yaparak parametrik ve nonparametrik testimi yapicaz.\n",
    "# H0 Reddedilir Normal dagilim ile Ornek dagilim arasinda Istatiksel olarak bir fark vardir.\n"
   ]
  },
  {
   "cell_type": "markdown",
   "id": "8b84eaf4",
   "metadata": {},
   "source": [
    "## Hipotez Testi"
   ]
  },
  {
   "cell_type": "code",
   "execution_count": 125,
   "id": "51afe771",
   "metadata": {},
   "outputs": [
    {
     "data": {
      "text/plain": [
       "0.5766634471096374"
      ]
     },
     "execution_count": 125,
     "metadata": {},
     "output_type": "execute_result"
    }
   ],
   "source": [
    "# Kolerasyon Katsatisi\n",
    "\n",
    "df.tip.corr(df.total_bill) # Default olarak pearson kolerasyon katsayisi"
   ]
  },
  {
   "cell_type": "code",
   "execution_count": 127,
   "id": "81deeeb4",
   "metadata": {},
   "outputs": [
    {
     "data": {
      "text/plain": [
       "0.593691939408997"
      ]
     },
     "execution_count": 127,
     "metadata": {},
     "output_type": "execute_result"
    }
   ],
   "source": [
    "df.tip.corr(df.total_bill,method=\"spearman\")"
   ]
  },
  {
   "cell_type": "code",
   "execution_count": 128,
   "id": "8323b0f2",
   "metadata": {},
   "outputs": [],
   "source": [
    "# Kolerasyon Katsayisi Anlamlimi ? "
   ]
  },
  {
   "cell_type": "code",
   "execution_count": 129,
   "id": "7ea56669",
   "metadata": {},
   "outputs": [],
   "source": [
    "from scipy.stats.stats import pearsonr"
   ]
  },
  {
   "cell_type": "code",
   "execution_count": 130,
   "id": "61a38a85",
   "metadata": {},
   "outputs": [
    {
     "data": {
      "text/plain": [
       "(0.5766634471096381, 5.018290084948419e-23)"
      ]
     },
     "execution_count": 130,
     "metadata": {},
     "output_type": "execute_result"
    }
   ],
   "source": [
    "pearsonr(df.tip,df.total_bill)"
   ]
  },
  {
   "cell_type": "markdown",
   "id": "9eb66793",
   "metadata": {},
   "source": [
    "## Nonparametrik Hipotez Testi"
   ]
  },
  {
   "cell_type": "code",
   "execution_count": 133,
   "id": "23ef204b",
   "metadata": {},
   "outputs": [
    {
     "data": {
      "text/plain": [
       "SpearmanrResult(correlation=0.593691939408997, pvalue=1.2452285137560276e-24)"
      ]
     },
     "execution_count": 133,
     "metadata": {},
     "output_type": "execute_result"
    }
   ],
   "source": [
    "from scipy.stats import stats\n",
    "stats.spearmanr(df.tip,df.total_bill) # Degiskenler Arasinda Orta Siddetli Iliski vardir."
   ]
  },
  {
   "cell_type": "code",
   "execution_count": 135,
   "id": "8e8f18ec",
   "metadata": {},
   "outputs": [
    {
     "data": {
      "text/plain": [
       "KendalltauResult(correlation=0.4400790074919885, pvalue=7.131027725873721e-24)"
      ]
     },
     "execution_count": 135,
     "metadata": {},
     "output_type": "execute_result"
    }
   ],
   "source": [
    "stats.kendalltau(df.tip,df.total_bill) # Kolerasyon Katsayisi Daha Dengeli ciktti fakat yine en guvenilir spearman "
   ]
  },
  {
   "cell_type": "code",
   "execution_count": null,
   "id": "55814cd1",
   "metadata": {},
   "outputs": [],
   "source": []
  }
 ],
 "metadata": {
  "kernelspec": {
   "display_name": "Python 3",
   "language": "python",
   "name": "python3"
  },
  "language_info": {
   "codemirror_mode": {
    "name": "ipython",
    "version": 3
   },
   "file_extension": ".py",
   "mimetype": "text/x-python",
   "name": "python",
   "nbconvert_exporter": "python",
   "pygments_lexer": "ipython3",
   "version": "3.9.3"
  },
  "toc": {
   "base_numbering": 1,
   "nav_menu": {},
   "number_sections": false,
   "sideBar": false,
   "skip_h1_title": false,
   "title_cell": "Table of Contents",
   "title_sidebar": "Contents",
   "toc_cell": true,
   "toc_position": {},
   "toc_section_display": true,
   "toc_window_display": false
  }
 },
 "nbformat": 4,
 "nbformat_minor": 5
}
